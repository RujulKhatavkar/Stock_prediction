{
 "cells": [
  {
   "cell_type": "code",
   "execution_count": 3,
   "metadata": {},
   "outputs": [],
   "source": [
    "import zipfile\n",
    "import pandas as pd\n",
    "import matplotlib.pyplot as plt\n",
    "import os\n",
    "from sklearn.discriminant_analysis import StandardScaler\n",
    "\n"
   ]
  },
  {
   "cell_type": "code",
   "execution_count": 5,
   "metadata": {},
   "outputs": [],
   "source": [
    "def list_files_in_zip(zip_file_name):\n",
    "    # Open the zip file\n",
    "    with zipfile.ZipFile(zip_file_name, 'r') as zip_ref:\n",
    "        # List all the contents of the zip file\n",
    "        file_names = zip_ref.namelist()\n",
    "    \n",
    "    return file_names\n"
   ]
  },
  {
   "cell_type": "code",
   "execution_count": 6,
   "metadata": {},
   "outputs": [],
   "source": [
    "zip_file_name = 'stocks.zip'\n",
    "\n",
    "file_names = list_files_in_zip(zip_file_name)\n",
    "file_names = [name.replace('.csv', '') for name in file_names]\n",
    "\n"
   ]
  },
  {
   "cell_type": "code",
   "execution_count": 7,
   "metadata": {},
   "outputs": [],
   "source": [
    "df = pd.DataFrame(file_names)"
   ]
  },
  {
   "cell_type": "code",
   "execution_count": 34,
   "metadata": {},
   "outputs": [
    {
     "data": {
      "text/html": [
       "<div>\n",
       "<style scoped>\n",
       "    .dataframe tbody tr th:only-of-type {\n",
       "        vertical-align: middle;\n",
       "    }\n",
       "\n",
       "    .dataframe tbody tr th {\n",
       "        vertical-align: top;\n",
       "    }\n",
       "\n",
       "    .dataframe thead th {\n",
       "        text-align: right;\n",
       "    }\n",
       "</style>\n",
       "<table border=\"1\" class=\"dataframe\">\n",
       "  <thead>\n",
       "    <tr style=\"text-align: right;\">\n",
       "      <th></th>\n",
       "      <th>Date</th>\n",
       "      <th>Open</th>\n",
       "      <th>High</th>\n",
       "      <th>Low</th>\n",
       "      <th>Close</th>\n",
       "      <th>Adj Close</th>\n",
       "      <th>Volume</th>\n",
       "      <th>ticker</th>\n",
       "    </tr>\n",
       "  </thead>\n",
       "  <tbody>\n",
       "    <tr>\n",
       "      <th>0</th>\n",
       "      <td>2012-06-18</td>\n",
       "      <td>11.64</td>\n",
       "      <td>12.006</td>\n",
       "      <td>11.52</td>\n",
       "      <td>11.89</td>\n",
       "      <td>8.815559</td>\n",
       "      <td>296237</td>\n",
       "      <td>BAK</td>\n",
       "    </tr>\n",
       "    <tr>\n",
       "      <th>1</th>\n",
       "      <td>2012-06-19</td>\n",
       "      <td>12.22</td>\n",
       "      <td>12.220</td>\n",
       "      <td>11.90</td>\n",
       "      <td>12.11</td>\n",
       "      <td>8.978674</td>\n",
       "      <td>539191</td>\n",
       "      <td>BAK</td>\n",
       "    </tr>\n",
       "    <tr>\n",
       "      <th>2</th>\n",
       "      <td>2012-06-20</td>\n",
       "      <td>12.23</td>\n",
       "      <td>12.530</td>\n",
       "      <td>12.10</td>\n",
       "      <td>12.40</td>\n",
       "      <td>9.193687</td>\n",
       "      <td>578106</td>\n",
       "      <td>BAK</td>\n",
       "    </tr>\n",
       "    <tr>\n",
       "      <th>3</th>\n",
       "      <td>2012-06-21</td>\n",
       "      <td>12.57</td>\n",
       "      <td>12.600</td>\n",
       "      <td>11.74</td>\n",
       "      <td>11.77</td>\n",
       "      <td>8.726588</td>\n",
       "      <td>843803</td>\n",
       "      <td>BAK</td>\n",
       "    </tr>\n",
       "    <tr>\n",
       "      <th>4</th>\n",
       "      <td>2012-06-22</td>\n",
       "      <td>11.96</td>\n",
       "      <td>12.060</td>\n",
       "      <td>11.69</td>\n",
       "      <td>11.85</td>\n",
       "      <td>8.785902</td>\n",
       "      <td>828184</td>\n",
       "      <td>BAK</td>\n",
       "    </tr>\n",
       "  </tbody>\n",
       "</table>\n",
       "</div>"
      ],
      "text/plain": [
       "         Date   Open    High    Low  Close  Adj Close  Volume ticker\n",
       "0  2012-06-18  11.64  12.006  11.52  11.89   8.815559  296237    BAK\n",
       "1  2012-06-19  12.22  12.220  11.90  12.11   8.978674  539191    BAK\n",
       "2  2012-06-20  12.23  12.530  12.10  12.40   9.193687  578106    BAK\n",
       "3  2012-06-21  12.57  12.600  11.74  11.77   8.726588  843803    BAK\n",
       "4  2012-06-22  11.96  12.060  11.69  11.85   8.785902  828184    BAK"
      ]
     },
     "execution_count": 34,
     "metadata": {},
     "output_type": "execute_result"
    }
   ],
   "source": [
    "df.head()"
   ]
  },
  {
   "cell_type": "code",
   "execution_count": 2,
   "metadata": {},
   "outputs": [],
   "source": [
    "df_headlines = pd.read_csv('news_headlines.csv')"
   ]
  },
  {
   "cell_type": "code",
   "execution_count": 44,
   "metadata": {},
   "outputs": [
    {
     "data": {
      "text/plain": [
       "Index(['index', 'title', 'date', 'stock'], dtype='object')"
      ]
     },
     "execution_count": 44,
     "metadata": {},
     "output_type": "execute_result"
    }
   ],
   "source": [
    "df_headlines.columns"
   ]
  },
  {
   "cell_type": "code",
   "execution_count": 3,
   "metadata": {},
   "outputs": [],
   "source": [
    "df_headlines[['date', 'time']] = df_headlines['date'].str.split(' ', 1, expand=True)\n"
   ]
  },
  {
   "cell_type": "code",
   "execution_count": 6,
   "metadata": {},
   "outputs": [],
   "source": [
    "df_headlines['date']  = pd.to_datetime(df_headlines['date'])"
   ]
  },
  {
   "cell_type": "code",
   "execution_count": 5,
   "metadata": {},
   "outputs": [],
   "source": [
    "df_headlines['date'] = df_headlines['date'].astype(str)\n",
    "\n",
    "# Drop rows where the date column contains letters\n",
    "df_headlines = df_headlines[~df_headlines['date'].str.contains('[a-zA-Z]')]"
   ]
  },
  {
   "cell_type": "code",
   "execution_count": 7,
   "metadata": {},
   "outputs": [
    {
     "data": {
      "text/html": [
       "<div>\n",
       "<style scoped>\n",
       "    .dataframe tbody tr th:only-of-type {\n",
       "        vertical-align: middle;\n",
       "    }\n",
       "\n",
       "    .dataframe tbody tr th {\n",
       "        vertical-align: top;\n",
       "    }\n",
       "\n",
       "    .dataframe thead th {\n",
       "        text-align: right;\n",
       "    }\n",
       "</style>\n",
       "<table border=\"1\" class=\"dataframe\">\n",
       "  <thead>\n",
       "    <tr style=\"text-align: right;\">\n",
       "      <th></th>\n",
       "      <th>index</th>\n",
       "      <th>title</th>\n",
       "      <th>date</th>\n",
       "      <th>stock</th>\n",
       "      <th>time</th>\n",
       "    </tr>\n",
       "  </thead>\n",
       "  <tbody>\n",
       "    <tr>\n",
       "      <th>0</th>\n",
       "      <td>0.0</td>\n",
       "      <td>Stocks That Hit 52-Week Highs On Friday</td>\n",
       "      <td>2020-06-05</td>\n",
       "      <td>A</td>\n",
       "      <td>10:30:00-04:00</td>\n",
       "    </tr>\n",
       "    <tr>\n",
       "      <th>1</th>\n",
       "      <td>1.0</td>\n",
       "      <td>Stocks That Hit 52-Week Highs On Wednesday</td>\n",
       "      <td>2020-06-03</td>\n",
       "      <td>A</td>\n",
       "      <td>10:45:00-04:00</td>\n",
       "    </tr>\n",
       "    <tr>\n",
       "      <th>2</th>\n",
       "      <td>2.0</td>\n",
       "      <td>71 Biggest Movers From Friday</td>\n",
       "      <td>2020-05-26</td>\n",
       "      <td>A</td>\n",
       "      <td>04:30:00-04:00</td>\n",
       "    </tr>\n",
       "    <tr>\n",
       "      <th>3</th>\n",
       "      <td>3.0</td>\n",
       "      <td>46 Stocks Moving In Friday's Mid-Day Session</td>\n",
       "      <td>2020-05-22</td>\n",
       "      <td>A</td>\n",
       "      <td>12:45:00-04:00</td>\n",
       "    </tr>\n",
       "    <tr>\n",
       "      <th>4</th>\n",
       "      <td>4.0</td>\n",
       "      <td>B of A Securities Maintains Neutral on Agilent...</td>\n",
       "      <td>2020-05-22</td>\n",
       "      <td>A</td>\n",
       "      <td>11:38:00-04:00</td>\n",
       "    </tr>\n",
       "    <tr>\n",
       "      <th>...</th>\n",
       "      <td>...</td>\n",
       "      <td>...</td>\n",
       "      <td>...</td>\n",
       "      <td>...</td>\n",
       "      <td>...</td>\n",
       "    </tr>\n",
       "    <tr>\n",
       "      <th>1048568</th>\n",
       "      <td>1060928.0</td>\n",
       "      <td>uniQure Announces 36 Weeks of Follow-Up Data f...</td>\n",
       "      <td>2019-07-06</td>\n",
       "      <td>QURE</td>\n",
       "      <td>07:36:00-04:00</td>\n",
       "    </tr>\n",
       "    <tr>\n",
       "      <th>1048569</th>\n",
       "      <td>1060929.0</td>\n",
       "      <td>The Daily Biotech Pulse: FDA Approves Karyopha...</td>\n",
       "      <td>2019-07-05</td>\n",
       "      <td>QURE</td>\n",
       "      <td>08:55:00-04:00</td>\n",
       "    </tr>\n",
       "    <tr>\n",
       "      <th>1048570</th>\n",
       "      <td>1060930.0</td>\n",
       "      <td>The Week Ahead In Biotech: Pending Clinical Re...</td>\n",
       "      <td>2019-06-29</td>\n",
       "      <td>QURE</td>\n",
       "      <td>08:25:00-04:00</td>\n",
       "    </tr>\n",
       "    <tr>\n",
       "      <th>1048571</th>\n",
       "      <td>1060931.0</td>\n",
       "      <td>60 Biggest Movers From Yesterday</td>\n",
       "      <td>2019-06-25</td>\n",
       "      <td>QURE</td>\n",
       "      <td>05:12:00-04:00</td>\n",
       "    </tr>\n",
       "    <tr>\n",
       "      <th>1048572</th>\n",
       "      <td>1060932.0</td>\n",
       "      <td>40 Stocks Moving In Monday's Mid-Day Session</td>\n",
       "      <td>2019-06-24</td>\n",
       "      <td>QURE</td>\n",
       "      <td>12:35:00-04:00</td>\n",
       "    </tr>\n",
       "  </tbody>\n",
       "</table>\n",
       "<p>1046635 rows × 5 columns</p>\n",
       "</div>"
      ],
      "text/plain": [
       "             index                                              title  \\\n",
       "0              0.0            Stocks That Hit 52-Week Highs On Friday   \n",
       "1              1.0         Stocks That Hit 52-Week Highs On Wednesday   \n",
       "2              2.0                      71 Biggest Movers From Friday   \n",
       "3              3.0       46 Stocks Moving In Friday's Mid-Day Session   \n",
       "4              4.0  B of A Securities Maintains Neutral on Agilent...   \n",
       "...            ...                                                ...   \n",
       "1048568  1060928.0  uniQure Announces 36 Weeks of Follow-Up Data f...   \n",
       "1048569  1060929.0  The Daily Biotech Pulse: FDA Approves Karyopha...   \n",
       "1048570  1060930.0  The Week Ahead In Biotech: Pending Clinical Re...   \n",
       "1048571  1060931.0                   60 Biggest Movers From Yesterday   \n",
       "1048572  1060932.0       40 Stocks Moving In Monday's Mid-Day Session   \n",
       "\n",
       "              date stock            time  \n",
       "0       2020-06-05     A  10:30:00-04:00  \n",
       "1       2020-06-03     A  10:45:00-04:00  \n",
       "2       2020-05-26     A  04:30:00-04:00  \n",
       "3       2020-05-22     A  12:45:00-04:00  \n",
       "4       2020-05-22     A  11:38:00-04:00  \n",
       "...            ...   ...             ...  \n",
       "1048568 2019-07-06  QURE  07:36:00-04:00  \n",
       "1048569 2019-07-05  QURE  08:55:00-04:00  \n",
       "1048570 2019-06-29  QURE  08:25:00-04:00  \n",
       "1048571 2019-06-25  QURE  05:12:00-04:00  \n",
       "1048572 2019-06-24  QURE  12:35:00-04:00  \n",
       "\n",
       "[1046635 rows x 5 columns]"
      ]
     },
     "execution_count": 7,
     "metadata": {},
     "output_type": "execute_result"
    }
   ],
   "source": [
    "df_headlines.dropna()"
   ]
  },
  {
   "cell_type": "code",
   "execution_count": null,
   "metadata": {},
   "outputs": [
    {
     "data": {
      "text/html": [
       "<div>\n",
       "<style scoped>\n",
       "    .dataframe tbody tr th:only-of-type {\n",
       "        vertical-align: middle;\n",
       "    }\n",
       "\n",
       "    .dataframe tbody tr th {\n",
       "        vertical-align: top;\n",
       "    }\n",
       "\n",
       "    .dataframe thead th {\n",
       "        text-align: right;\n",
       "    }\n",
       "</style>\n",
       "<table border=\"1\" class=\"dataframe\">\n",
       "  <thead>\n",
       "    <tr style=\"text-align: right;\">\n",
       "      <th></th>\n",
       "      <th>index</th>\n",
       "      <th>title</th>\n",
       "      <th>date</th>\n",
       "      <th>stock</th>\n",
       "      <th>time</th>\n",
       "    </tr>\n",
       "  </thead>\n",
       "  <tbody>\n",
       "    <tr>\n",
       "      <th>0</th>\n",
       "      <td>0.0</td>\n",
       "      <td>Stocks That Hit 52-Week Highs On Friday</td>\n",
       "      <td>2020-06-05</td>\n",
       "      <td>A</td>\n",
       "      <td>10:30:00-04:00</td>\n",
       "    </tr>\n",
       "    <tr>\n",
       "      <th>1</th>\n",
       "      <td>1.0</td>\n",
       "      <td>Stocks That Hit 52-Week Highs On Wednesday</td>\n",
       "      <td>2020-06-03</td>\n",
       "      <td>A</td>\n",
       "      <td>10:45:00-04:00</td>\n",
       "    </tr>\n",
       "    <tr>\n",
       "      <th>2</th>\n",
       "      <td>2.0</td>\n",
       "      <td>71 Biggest Movers From Friday</td>\n",
       "      <td>2020-05-26</td>\n",
       "      <td>A</td>\n",
       "      <td>04:30:00-04:00</td>\n",
       "    </tr>\n",
       "    <tr>\n",
       "      <th>3</th>\n",
       "      <td>3.0</td>\n",
       "      <td>46 Stocks Moving In Friday's Mid-Day Session</td>\n",
       "      <td>2020-05-22</td>\n",
       "      <td>A</td>\n",
       "      <td>12:45:00-04:00</td>\n",
       "    </tr>\n",
       "    <tr>\n",
       "      <th>4</th>\n",
       "      <td>4.0</td>\n",
       "      <td>B of A Securities Maintains Neutral on Agilent...</td>\n",
       "      <td>2020-05-22</td>\n",
       "      <td>A</td>\n",
       "      <td>11:38:00-04:00</td>\n",
       "    </tr>\n",
       "    <tr>\n",
       "      <th>...</th>\n",
       "      <td>...</td>\n",
       "      <td>...</td>\n",
       "      <td>...</td>\n",
       "      <td>...</td>\n",
       "      <td>...</td>\n",
       "    </tr>\n",
       "    <tr>\n",
       "      <th>1048568</th>\n",
       "      <td>1060928.0</td>\n",
       "      <td>uniQure Announces 36 Weeks of Follow-Up Data f...</td>\n",
       "      <td>2019-07-06</td>\n",
       "      <td>QURE</td>\n",
       "      <td>07:36:00-04:00</td>\n",
       "    </tr>\n",
       "    <tr>\n",
       "      <th>1048569</th>\n",
       "      <td>1060929.0</td>\n",
       "      <td>The Daily Biotech Pulse: FDA Approves Karyopha...</td>\n",
       "      <td>2019-07-05</td>\n",
       "      <td>QURE</td>\n",
       "      <td>08:55:00-04:00</td>\n",
       "    </tr>\n",
       "    <tr>\n",
       "      <th>1048570</th>\n",
       "      <td>1060930.0</td>\n",
       "      <td>The Week Ahead In Biotech: Pending Clinical Re...</td>\n",
       "      <td>2019-06-29</td>\n",
       "      <td>QURE</td>\n",
       "      <td>08:25:00-04:00</td>\n",
       "    </tr>\n",
       "    <tr>\n",
       "      <th>1048571</th>\n",
       "      <td>1060931.0</td>\n",
       "      <td>60 Biggest Movers From Yesterday</td>\n",
       "      <td>2019-06-25</td>\n",
       "      <td>QURE</td>\n",
       "      <td>05:12:00-04:00</td>\n",
       "    </tr>\n",
       "    <tr>\n",
       "      <th>1048572</th>\n",
       "      <td>1060932.0</td>\n",
       "      <td>40 Stocks Moving In Monday's Mid-Day Session</td>\n",
       "      <td>2019-06-24</td>\n",
       "      <td>QURE</td>\n",
       "      <td>12:35:00-04:00</td>\n",
       "    </tr>\n",
       "  </tbody>\n",
       "</table>\n",
       "<p>1048573 rows × 5 columns</p>\n",
       "</div>"
      ],
      "text/plain": [
       "             index                                              title  \\\n",
       "0              0.0            Stocks That Hit 52-Week Highs On Friday   \n",
       "1              1.0         Stocks That Hit 52-Week Highs On Wednesday   \n",
       "2              2.0                      71 Biggest Movers From Friday   \n",
       "3              3.0       46 Stocks Moving In Friday's Mid-Day Session   \n",
       "4              4.0  B of A Securities Maintains Neutral on Agilent...   \n",
       "...            ...                                                ...   \n",
       "1048568  1060928.0  uniQure Announces 36 Weeks of Follow-Up Data f...   \n",
       "1048569  1060929.0  The Daily Biotech Pulse: FDA Approves Karyopha...   \n",
       "1048570  1060930.0  The Week Ahead In Biotech: Pending Clinical Re...   \n",
       "1048571  1060931.0                   60 Biggest Movers From Yesterday   \n",
       "1048572  1060932.0       40 Stocks Moving In Monday's Mid-Day Session   \n",
       "\n",
       "               date stock            time  \n",
       "0        2020-06-05     A  10:30:00-04:00  \n",
       "1        2020-06-03     A  10:45:00-04:00  \n",
       "2        2020-05-26     A  04:30:00-04:00  \n",
       "3        2020-05-22     A  12:45:00-04:00  \n",
       "4        2020-05-22     A  11:38:00-04:00  \n",
       "...             ...   ...             ...  \n",
       "1048568  2019-07-06  QURE  07:36:00-04:00  \n",
       "1048569  2019-07-05  QURE  08:55:00-04:00  \n",
       "1048570  2019-06-29  QURE  08:25:00-04:00  \n",
       "1048571  2019-06-25  QURE  05:12:00-04:00  \n",
       "1048572  2019-06-24  QURE  12:35:00-04:00  \n",
       "\n",
       "[1048573 rows x 5 columns]"
      ]
     },
     "execution_count": 46,
     "metadata": {},
     "output_type": "execute_result"
    }
   ],
   "source": [
    "df_headlines"
   ]
  },
  {
   "cell_type": "code",
   "execution_count": 8,
   "metadata": {},
   "outputs": [],
   "source": [
    "stocks_df = set(df[0])\n",
    "stocks_df_headlines = set(df_headlines['stock'])\n",
    "\n",
    "# Find the intersection of the two sets\n",
    "extract_stock_files = list(stocks_df.intersection(stocks_df_headlines))"
   ]
  },
  {
   "cell_type": "code",
   "execution_count": 14,
   "metadata": {},
   "outputs": [
    {
     "data": {
      "text/plain": [
       "2564"
      ]
     },
     "execution_count": 14,
     "metadata": {},
     "output_type": "execute_result"
    }
   ],
   "source": [
    "len(extract_stock_files)"
   ]
  },
  {
   "cell_type": "code",
   "execution_count": 151,
   "metadata": {},
   "outputs": [],
   "source": [
    "dataframes = []\n",
    "target_folder ='extracted_files'\n",
    "with zipfile.ZipFile(zip_file_name, 'r') as zip_ref:\n",
    "        # Iterate over the extracted files\n",
    "        for stock in extract_stock_files:\n",
    "            file_name = f\"{stock}.csv\"\n",
    "            combined_df = pd.DataFrame()\n",
    "            if file_name in zip_ref.namelist():\n",
    "                # Extract the file\n",
    "                zip_ref.extract(file_name,target_folder)\n",
    "                # print(file_name)\n",
    "                # Read the CSV file into a DataFrame\n",
    "                df = pd.read_csv(os.path.join(target_folder, file_name))\n",
    "                # Append the DataFrame to the list\n",
    "                df['ticker'] = stock\n",
    "                dataframes.append((df))\n",
    "                \n",
    "        combined_df = pd.concat(dataframes, ignore_index=True)\n",
    "        combined_df.to_csv('stocks_data.csv', mode='a', header=False, index=False)"
   ]
  },
  {
   "cell_type": "code",
   "execution_count": 152,
   "metadata": {},
   "outputs": [
    {
     "data": {
      "text/html": [
       "<div>\n",
       "<style scoped>\n",
       "    .dataframe tbody tr th:only-of-type {\n",
       "        vertical-align: middle;\n",
       "    }\n",
       "\n",
       "    .dataframe tbody tr th {\n",
       "        vertical-align: top;\n",
       "    }\n",
       "\n",
       "    .dataframe thead th {\n",
       "        text-align: right;\n",
       "    }\n",
       "</style>\n",
       "<table border=\"1\" class=\"dataframe\">\n",
       "  <thead>\n",
       "    <tr style=\"text-align: right;\">\n",
       "      <th></th>\n",
       "      <th>Date</th>\n",
       "      <th>Open</th>\n",
       "      <th>High</th>\n",
       "      <th>Low</th>\n",
       "      <th>Close</th>\n",
       "      <th>Adj Close</th>\n",
       "      <th>Volume</th>\n",
       "      <th>ticker</th>\n",
       "    </tr>\n",
       "  </thead>\n",
       "  <tbody>\n",
       "    <tr>\n",
       "      <th>13951312</th>\n",
       "      <td>2020-03-05</td>\n",
       "      <td>12.20</td>\n",
       "      <td>12.3500</td>\n",
       "      <td>11.4000</td>\n",
       "      <td>11.54</td>\n",
       "      <td>11.54</td>\n",
       "      <td>103140.0</td>\n",
       "      <td>BAK</td>\n",
       "    </tr>\n",
       "    <tr>\n",
       "      <th>13951313</th>\n",
       "      <td>2020-03-06</td>\n",
       "      <td>10.83</td>\n",
       "      <td>11.4400</td>\n",
       "      <td>10.6800</td>\n",
       "      <td>10.83</td>\n",
       "      <td>10.83</td>\n",
       "      <td>152227.0</td>\n",
       "      <td>BAK</td>\n",
       "    </tr>\n",
       "    <tr>\n",
       "      <th>13951314</th>\n",
       "      <td>2020-03-09</td>\n",
       "      <td>9.46</td>\n",
       "      <td>10.4600</td>\n",
       "      <td>9.0700</td>\n",
       "      <td>9.11</td>\n",
       "      <td>9.11</td>\n",
       "      <td>312548.0</td>\n",
       "      <td>BAK</td>\n",
       "    </tr>\n",
       "    <tr>\n",
       "      <th>13951315</th>\n",
       "      <td>2020-03-10</td>\n",
       "      <td>10.01</td>\n",
       "      <td>10.9999</td>\n",
       "      <td>9.8400</td>\n",
       "      <td>10.74</td>\n",
       "      <td>10.74</td>\n",
       "      <td>256312.0</td>\n",
       "      <td>BAK</td>\n",
       "    </tr>\n",
       "    <tr>\n",
       "      <th>13951316</th>\n",
       "      <td>2020-03-11</td>\n",
       "      <td>10.61</td>\n",
       "      <td>10.7350</td>\n",
       "      <td>9.0200</td>\n",
       "      <td>9.21</td>\n",
       "      <td>9.21</td>\n",
       "      <td>187277.0</td>\n",
       "      <td>BAK</td>\n",
       "    </tr>\n",
       "    <tr>\n",
       "      <th>13951317</th>\n",
       "      <td>2020-03-12</td>\n",
       "      <td>7.00</td>\n",
       "      <td>7.7000</td>\n",
       "      <td>6.2500</td>\n",
       "      <td>6.99</td>\n",
       "      <td>6.99</td>\n",
       "      <td>293339.0</td>\n",
       "      <td>BAK</td>\n",
       "    </tr>\n",
       "    <tr>\n",
       "      <th>13951318</th>\n",
       "      <td>2020-03-13</td>\n",
       "      <td>8.54</td>\n",
       "      <td>8.7000</td>\n",
       "      <td>7.0000</td>\n",
       "      <td>8.36</td>\n",
       "      <td>8.36</td>\n",
       "      <td>308190.0</td>\n",
       "      <td>BAK</td>\n",
       "    </tr>\n",
       "    <tr>\n",
       "      <th>13951319</th>\n",
       "      <td>2020-03-16</td>\n",
       "      <td>8.40</td>\n",
       "      <td>8.6500</td>\n",
       "      <td>6.7800</td>\n",
       "      <td>6.83</td>\n",
       "      <td>6.83</td>\n",
       "      <td>343688.0</td>\n",
       "      <td>BAK</td>\n",
       "    </tr>\n",
       "    <tr>\n",
       "      <th>13951320</th>\n",
       "      <td>2020-03-17</td>\n",
       "      <td>6.99</td>\n",
       "      <td>7.6200</td>\n",
       "      <td>6.6800</td>\n",
       "      <td>7.01</td>\n",
       "      <td>7.01</td>\n",
       "      <td>180867.0</td>\n",
       "      <td>BAK</td>\n",
       "    </tr>\n",
       "    <tr>\n",
       "      <th>13951321</th>\n",
       "      <td>2020-03-18</td>\n",
       "      <td>6.02</td>\n",
       "      <td>6.3800</td>\n",
       "      <td>4.5700</td>\n",
       "      <td>4.79</td>\n",
       "      <td>4.79</td>\n",
       "      <td>255582.0</td>\n",
       "      <td>BAK</td>\n",
       "    </tr>\n",
       "    <tr>\n",
       "      <th>13951322</th>\n",
       "      <td>2020-03-19</td>\n",
       "      <td>4.72</td>\n",
       "      <td>5.2900</td>\n",
       "      <td>4.5105</td>\n",
       "      <td>5.01</td>\n",
       "      <td>5.01</td>\n",
       "      <td>237557.0</td>\n",
       "      <td>BAK</td>\n",
       "    </tr>\n",
       "    <tr>\n",
       "      <th>13951323</th>\n",
       "      <td>2020-03-20</td>\n",
       "      <td>5.39</td>\n",
       "      <td>6.4100</td>\n",
       "      <td>4.5000</td>\n",
       "      <td>4.69</td>\n",
       "      <td>4.69</td>\n",
       "      <td>305604.0</td>\n",
       "      <td>BAK</td>\n",
       "    </tr>\n",
       "    <tr>\n",
       "      <th>13951324</th>\n",
       "      <td>2020-03-23</td>\n",
       "      <td>4.63</td>\n",
       "      <td>4.6300</td>\n",
       "      <td>3.8600</td>\n",
       "      <td>3.86</td>\n",
       "      <td>3.86</td>\n",
       "      <td>494650.0</td>\n",
       "      <td>BAK</td>\n",
       "    </tr>\n",
       "    <tr>\n",
       "      <th>13951325</th>\n",
       "      <td>2020-03-24</td>\n",
       "      <td>4.24</td>\n",
       "      <td>4.7700</td>\n",
       "      <td>4.2400</td>\n",
       "      <td>4.56</td>\n",
       "      <td>4.56</td>\n",
       "      <td>277376.0</td>\n",
       "      <td>BAK</td>\n",
       "    </tr>\n",
       "    <tr>\n",
       "      <th>13951326</th>\n",
       "      <td>2020-03-25</td>\n",
       "      <td>4.88</td>\n",
       "      <td>6.1878</td>\n",
       "      <td>4.8700</td>\n",
       "      <td>6.04</td>\n",
       "      <td>6.04</td>\n",
       "      <td>257725.0</td>\n",
       "      <td>BAK</td>\n",
       "    </tr>\n",
       "    <tr>\n",
       "      <th>13951327</th>\n",
       "      <td>2020-03-26</td>\n",
       "      <td>6.64</td>\n",
       "      <td>8.1000</td>\n",
       "      <td>6.6400</td>\n",
       "      <td>7.81</td>\n",
       "      <td>7.81</td>\n",
       "      <td>543221.0</td>\n",
       "      <td>BAK</td>\n",
       "    </tr>\n",
       "    <tr>\n",
       "      <th>13951328</th>\n",
       "      <td>2020-03-27</td>\n",
       "      <td>7.81</td>\n",
       "      <td>7.8550</td>\n",
       "      <td>6.7100</td>\n",
       "      <td>7.06</td>\n",
       "      <td>7.06</td>\n",
       "      <td>208643.0</td>\n",
       "      <td>BAK</td>\n",
       "    </tr>\n",
       "    <tr>\n",
       "      <th>13951329</th>\n",
       "      <td>2020-03-30</td>\n",
       "      <td>7.11</td>\n",
       "      <td>7.1850</td>\n",
       "      <td>6.7100</td>\n",
       "      <td>6.91</td>\n",
       "      <td>6.91</td>\n",
       "      <td>159131.0</td>\n",
       "      <td>BAK</td>\n",
       "    </tr>\n",
       "    <tr>\n",
       "      <th>13951330</th>\n",
       "      <td>2020-03-31</td>\n",
       "      <td>7.20</td>\n",
       "      <td>7.2000</td>\n",
       "      <td>6.6100</td>\n",
       "      <td>6.64</td>\n",
       "      <td>6.64</td>\n",
       "      <td>175378.0</td>\n",
       "      <td>BAK</td>\n",
       "    </tr>\n",
       "    <tr>\n",
       "      <th>13951331</th>\n",
       "      <td>2020-04-01</td>\n",
       "      <td>6.35</td>\n",
       "      <td>6.4400</td>\n",
       "      <td>6.0100</td>\n",
       "      <td>6.17</td>\n",
       "      <td>6.17</td>\n",
       "      <td>150536.0</td>\n",
       "      <td>BAK</td>\n",
       "    </tr>\n",
       "  </tbody>\n",
       "</table>\n",
       "</div>"
      ],
      "text/plain": [
       "                Date   Open     High      Low  Close  Adj Close    Volume  \\\n",
       "13951312  2020-03-05  12.20  12.3500  11.4000  11.54      11.54  103140.0   \n",
       "13951313  2020-03-06  10.83  11.4400  10.6800  10.83      10.83  152227.0   \n",
       "13951314  2020-03-09   9.46  10.4600   9.0700   9.11       9.11  312548.0   \n",
       "13951315  2020-03-10  10.01  10.9999   9.8400  10.74      10.74  256312.0   \n",
       "13951316  2020-03-11  10.61  10.7350   9.0200   9.21       9.21  187277.0   \n",
       "13951317  2020-03-12   7.00   7.7000   6.2500   6.99       6.99  293339.0   \n",
       "13951318  2020-03-13   8.54   8.7000   7.0000   8.36       8.36  308190.0   \n",
       "13951319  2020-03-16   8.40   8.6500   6.7800   6.83       6.83  343688.0   \n",
       "13951320  2020-03-17   6.99   7.6200   6.6800   7.01       7.01  180867.0   \n",
       "13951321  2020-03-18   6.02   6.3800   4.5700   4.79       4.79  255582.0   \n",
       "13951322  2020-03-19   4.72   5.2900   4.5105   5.01       5.01  237557.0   \n",
       "13951323  2020-03-20   5.39   6.4100   4.5000   4.69       4.69  305604.0   \n",
       "13951324  2020-03-23   4.63   4.6300   3.8600   3.86       3.86  494650.0   \n",
       "13951325  2020-03-24   4.24   4.7700   4.2400   4.56       4.56  277376.0   \n",
       "13951326  2020-03-25   4.88   6.1878   4.8700   6.04       6.04  257725.0   \n",
       "13951327  2020-03-26   6.64   8.1000   6.6400   7.81       7.81  543221.0   \n",
       "13951328  2020-03-27   7.81   7.8550   6.7100   7.06       7.06  208643.0   \n",
       "13951329  2020-03-30   7.11   7.1850   6.7100   6.91       6.91  159131.0   \n",
       "13951330  2020-03-31   7.20   7.2000   6.6100   6.64       6.64  175378.0   \n",
       "13951331  2020-04-01   6.35   6.4400   6.0100   6.17       6.17  150536.0   \n",
       "\n",
       "         ticker  \n",
       "13951312    BAK  \n",
       "13951313    BAK  \n",
       "13951314    BAK  \n",
       "13951315    BAK  \n",
       "13951316    BAK  \n",
       "13951317    BAK  \n",
       "13951318    BAK  \n",
       "13951319    BAK  \n",
       "13951320    BAK  \n",
       "13951321    BAK  \n",
       "13951322    BAK  \n",
       "13951323    BAK  \n",
       "13951324    BAK  \n",
       "13951325    BAK  \n",
       "13951326    BAK  \n",
       "13951327    BAK  \n",
       "13951328    BAK  \n",
       "13951329    BAK  \n",
       "13951330    BAK  \n",
       "13951331    BAK  "
      ]
     },
     "execution_count": 152,
     "metadata": {},
     "output_type": "execute_result"
    }
   ],
   "source": [
    "combined_df.tail(20)"
   ]
  },
  {
   "cell_type": "code",
   "execution_count": 8,
   "metadata": {},
   "outputs": [],
   "source": [
    "stocks_data = pd.read_csv('stocks_data.csv')"
   ]
  },
  {
   "cell_type": "code",
   "execution_count": 9,
   "metadata": {},
   "outputs": [
    {
     "data": {
      "text/plain": [
       "13951331"
      ]
     },
     "execution_count": 9,
     "metadata": {},
     "output_type": "execute_result"
    }
   ],
   "source": [
    "len(stocks_data)"
   ]
  },
  {
   "cell_type": "code",
   "execution_count": 10,
   "metadata": {},
   "outputs": [],
   "source": [
    "new_columns = ['Date', 'Open', 'High', 'Low', 'Close', 'Adj Close', 'Volume', 'ticker']\n",
    "\n",
    "# Replace the columns in the DataFrame\n",
    "stocks_data.columns = new_columns"
   ]
  },
  {
   "cell_type": "code",
   "execution_count": 11,
   "metadata": {},
   "outputs": [],
   "source": [
    "df_ticker = pd.read_csv('news_data.csv')"
   ]
  },
  {
   "cell_type": "code",
   "execution_count": 12,
   "metadata": {},
   "outputs": [
    {
     "data": {
      "text/html": [
       "<div>\n",
       "<style scoped>\n",
       "    .dataframe tbody tr th:only-of-type {\n",
       "        vertical-align: middle;\n",
       "    }\n",
       "\n",
       "    .dataframe tbody tr th {\n",
       "        vertical-align: top;\n",
       "    }\n",
       "\n",
       "    .dataframe thead th {\n",
       "        text-align: right;\n",
       "    }\n",
       "</style>\n",
       "<table border=\"1\" class=\"dataframe\">\n",
       "  <thead>\n",
       "    <tr style=\"text-align: right;\">\n",
       "      <th></th>\n",
       "      <th>Date</th>\n",
       "      <th>Open</th>\n",
       "      <th>High</th>\n",
       "      <th>Low</th>\n",
       "      <th>Close</th>\n",
       "      <th>Adj Close</th>\n",
       "      <th>Volume</th>\n",
       "      <th>ticker</th>\n",
       "    </tr>\n",
       "  </thead>\n",
       "  <tbody>\n",
       "    <tr>\n",
       "      <th>0</th>\n",
       "      <td>2013-03-22</td>\n",
       "      <td>17.570000</td>\n",
       "      <td>17.570000</td>\n",
       "      <td>16.709999</td>\n",
       "      <td>16.809999</td>\n",
       "      <td>16.809999</td>\n",
       "      <td>75200.0</td>\n",
       "      <td>ENTA</td>\n",
       "    </tr>\n",
       "    <tr>\n",
       "      <th>1</th>\n",
       "      <td>2013-03-25</td>\n",
       "      <td>17.400000</td>\n",
       "      <td>17.400000</td>\n",
       "      <td>16.799999</td>\n",
       "      <td>16.830000</td>\n",
       "      <td>16.830000</td>\n",
       "      <td>24100.0</td>\n",
       "      <td>ENTA</td>\n",
       "    </tr>\n",
       "    <tr>\n",
       "      <th>2</th>\n",
       "      <td>2013-03-26</td>\n",
       "      <td>16.910000</td>\n",
       "      <td>17.313999</td>\n",
       "      <td>16.900000</td>\n",
       "      <td>17.090000</td>\n",
       "      <td>17.090000</td>\n",
       "      <td>27000.0</td>\n",
       "      <td>ENTA</td>\n",
       "    </tr>\n",
       "    <tr>\n",
       "      <th>3</th>\n",
       "      <td>2013-03-27</td>\n",
       "      <td>16.950001</td>\n",
       "      <td>17.230000</td>\n",
       "      <td>16.580000</td>\n",
       "      <td>17.090000</td>\n",
       "      <td>17.090000</td>\n",
       "      <td>33900.0</td>\n",
       "      <td>ENTA</td>\n",
       "    </tr>\n",
       "    <tr>\n",
       "      <th>4</th>\n",
       "      <td>2013-03-28</td>\n",
       "      <td>16.980000</td>\n",
       "      <td>18.500000</td>\n",
       "      <td>16.920000</td>\n",
       "      <td>18.200001</td>\n",
       "      <td>18.200001</td>\n",
       "      <td>57700.0</td>\n",
       "      <td>ENTA</td>\n",
       "    </tr>\n",
       "    <tr>\n",
       "      <th>...</th>\n",
       "      <td>...</td>\n",
       "      <td>...</td>\n",
       "      <td>...</td>\n",
       "      <td>...</td>\n",
       "      <td>...</td>\n",
       "      <td>...</td>\n",
       "      <td>...</td>\n",
       "      <td>...</td>\n",
       "    </tr>\n",
       "    <tr>\n",
       "      <th>13951326</th>\n",
       "      <td>2020-03-26</td>\n",
       "      <td>6.640000</td>\n",
       "      <td>8.100000</td>\n",
       "      <td>6.640000</td>\n",
       "      <td>7.810000</td>\n",
       "      <td>7.810000</td>\n",
       "      <td>543221.0</td>\n",
       "      <td>BAK</td>\n",
       "    </tr>\n",
       "    <tr>\n",
       "      <th>13951327</th>\n",
       "      <td>2020-03-27</td>\n",
       "      <td>7.810000</td>\n",
       "      <td>7.855000</td>\n",
       "      <td>6.710000</td>\n",
       "      <td>7.060000</td>\n",
       "      <td>7.060000</td>\n",
       "      <td>208643.0</td>\n",
       "      <td>BAK</td>\n",
       "    </tr>\n",
       "    <tr>\n",
       "      <th>13951328</th>\n",
       "      <td>2020-03-30</td>\n",
       "      <td>7.110000</td>\n",
       "      <td>7.185000</td>\n",
       "      <td>6.710000</td>\n",
       "      <td>6.910000</td>\n",
       "      <td>6.910000</td>\n",
       "      <td>159131.0</td>\n",
       "      <td>BAK</td>\n",
       "    </tr>\n",
       "    <tr>\n",
       "      <th>13951329</th>\n",
       "      <td>2020-03-31</td>\n",
       "      <td>7.200000</td>\n",
       "      <td>7.200000</td>\n",
       "      <td>6.610000</td>\n",
       "      <td>6.640000</td>\n",
       "      <td>6.640000</td>\n",
       "      <td>175378.0</td>\n",
       "      <td>BAK</td>\n",
       "    </tr>\n",
       "    <tr>\n",
       "      <th>13951330</th>\n",
       "      <td>2020-04-01</td>\n",
       "      <td>6.350000</td>\n",
       "      <td>6.440000</td>\n",
       "      <td>6.010000</td>\n",
       "      <td>6.170000</td>\n",
       "      <td>6.170000</td>\n",
       "      <td>150536.0</td>\n",
       "      <td>BAK</td>\n",
       "    </tr>\n",
       "  </tbody>\n",
       "</table>\n",
       "<p>13951331 rows × 8 columns</p>\n",
       "</div>"
      ],
      "text/plain": [
       "                Date       Open       High        Low      Close  Adj Close  \\\n",
       "0         2013-03-22  17.570000  17.570000  16.709999  16.809999  16.809999   \n",
       "1         2013-03-25  17.400000  17.400000  16.799999  16.830000  16.830000   \n",
       "2         2013-03-26  16.910000  17.313999  16.900000  17.090000  17.090000   \n",
       "3         2013-03-27  16.950001  17.230000  16.580000  17.090000  17.090000   \n",
       "4         2013-03-28  16.980000  18.500000  16.920000  18.200001  18.200001   \n",
       "...              ...        ...        ...        ...        ...        ...   \n",
       "13951326  2020-03-26   6.640000   8.100000   6.640000   7.810000   7.810000   \n",
       "13951327  2020-03-27   7.810000   7.855000   6.710000   7.060000   7.060000   \n",
       "13951328  2020-03-30   7.110000   7.185000   6.710000   6.910000   6.910000   \n",
       "13951329  2020-03-31   7.200000   7.200000   6.610000   6.640000   6.640000   \n",
       "13951330  2020-04-01   6.350000   6.440000   6.010000   6.170000   6.170000   \n",
       "\n",
       "            Volume ticker  \n",
       "0          75200.0   ENTA  \n",
       "1          24100.0   ENTA  \n",
       "2          27000.0   ENTA  \n",
       "3          33900.0   ENTA  \n",
       "4          57700.0   ENTA  \n",
       "...            ...    ...  \n",
       "13951326  543221.0    BAK  \n",
       "13951327  208643.0    BAK  \n",
       "13951328  159131.0    BAK  \n",
       "13951329  175378.0    BAK  \n",
       "13951330  150536.0    BAK  \n",
       "\n",
       "[13951331 rows x 8 columns]"
      ]
     },
     "execution_count": 12,
     "metadata": {},
     "output_type": "execute_result"
    }
   ],
   "source": [
    "stocks_data"
   ]
  },
  {
   "cell_type": "code",
   "execution_count": 12,
   "metadata": {},
   "outputs": [],
   "source": [
    "df_ticker.columns\n",
    "df_ticker = df_ticker[['Ticker','Industry']]"
   ]
  },
  {
   "cell_type": "code",
   "execution_count": 13,
   "metadata": {},
   "outputs": [],
   "source": [
    "result_df = pd.merge(stocks_data, df_ticker, left_on='ticker', right_on='Ticker', how='left')\n"
   ]
  },
  {
   "cell_type": "code",
   "execution_count": 20,
   "metadata": {},
   "outputs": [
    {
     "data": {
      "text/html": [
       "<div>\n",
       "<style scoped>\n",
       "    .dataframe tbody tr th:only-of-type {\n",
       "        vertical-align: middle;\n",
       "    }\n",
       "\n",
       "    .dataframe tbody tr th {\n",
       "        vertical-align: top;\n",
       "    }\n",
       "\n",
       "    .dataframe thead th {\n",
       "        text-align: right;\n",
       "    }\n",
       "</style>\n",
       "<table border=\"1\" class=\"dataframe\">\n",
       "  <thead>\n",
       "    <tr style=\"text-align: right;\">\n",
       "      <th></th>\n",
       "      <th>Date</th>\n",
       "      <th>Adj Close</th>\n",
       "      <th>Ticker</th>\n",
       "      <th>Industry</th>\n",
       "      <th>Adj Close Diff</th>\n",
       "    </tr>\n",
       "  </thead>\n",
       "  <tbody>\n",
       "    <tr>\n",
       "      <th>40307</th>\n",
       "      <td>1992-11-12</td>\n",
       "      <td>80.022629</td>\n",
       "      <td>BIOL</td>\n",
       "      <td>Medical Devices</td>\n",
       "      <td>NaN</td>\n",
       "    </tr>\n",
       "    <tr>\n",
       "      <th>40308</th>\n",
       "      <td>1992-11-13</td>\n",
       "      <td>86.881714</td>\n",
       "      <td>BIOL</td>\n",
       "      <td>Medical Devices</td>\n",
       "      <td>6.859085</td>\n",
       "    </tr>\n",
       "    <tr>\n",
       "      <th>40309</th>\n",
       "      <td>1992-11-16</td>\n",
       "      <td>89.168083</td>\n",
       "      <td>BIOL</td>\n",
       "      <td>Medical Devices</td>\n",
       "      <td>2.286369</td>\n",
       "    </tr>\n",
       "    <tr>\n",
       "      <th>40310</th>\n",
       "      <td>1992-11-17</td>\n",
       "      <td>89.168083</td>\n",
       "      <td>BIOL</td>\n",
       "      <td>Medical Devices</td>\n",
       "      <td>0.000000</td>\n",
       "    </tr>\n",
       "    <tr>\n",
       "      <th>40311</th>\n",
       "      <td>1992-11-18</td>\n",
       "      <td>84.595360</td>\n",
       "      <td>BIOL</td>\n",
       "      <td>Medical Devices</td>\n",
       "      <td>-4.572723</td>\n",
       "    </tr>\n",
       "  </tbody>\n",
       "</table>\n",
       "</div>"
      ],
      "text/plain": [
       "             Date  Adj Close Ticker         Industry  Adj Close Diff\n",
       "40307  1992-11-12  80.022629   BIOL  Medical Devices             NaN\n",
       "40308  1992-11-13  86.881714   BIOL  Medical Devices        6.859085\n",
       "40309  1992-11-16  89.168083   BIOL  Medical Devices        2.286369\n",
       "40310  1992-11-17  89.168083   BIOL  Medical Devices        0.000000\n",
       "40311  1992-11-18  84.595360   BIOL  Medical Devices       -4.572723"
      ]
     },
     "execution_count": 20,
     "metadata": {},
     "output_type": "execute_result"
    }
   ],
   "source": [
    "result_df.head()"
   ]
  },
  {
   "cell_type": "code",
   "execution_count": 14,
   "metadata": {},
   "outputs": [],
   "source": [
    "result_df = result_df.dropna()"
   ]
  },
  {
   "cell_type": "code",
   "execution_count": 15,
   "metadata": {},
   "outputs": [],
   "source": [
    "result_df['Adj Close Diff'] = result_df['Adj Close'] - result_df['Adj Close'].shift(1)"
   ]
  },
  {
   "cell_type": "code",
   "execution_count": 16,
   "metadata": {},
   "outputs": [],
   "source": [
    "result_df = result_df.drop(columns=['ticker','Open','High','Low','Volume','Close'])"
   ]
  },
  {
   "cell_type": "code",
   "execution_count": 13,
   "metadata": {},
   "outputs": [
    {
     "data": {
      "text/plain": [
       "132"
      ]
     },
     "execution_count": 13,
     "metadata": {},
     "output_type": "execute_result"
    }
   ],
   "source": [
    "len(pd.unique(result_df['Industry']))"
   ]
  },
  {
   "cell_type": "code",
   "execution_count": 25,
   "metadata": {},
   "outputs": [],
   "source": [
    "multi_ticker_industries = result_df.groupby('Industry')['Ticker'].nunique()\n",
    "multi_ticker_industries = multi_ticker_industries[multi_ticker_industries > 10].index"
   ]
  },
  {
   "cell_type": "code",
   "execution_count": 15,
   "metadata": {},
   "outputs": [
    {
     "data": {
      "text/plain": [
       "Index(['Asset Management', 'Banks - Regional', 'Biotechnology',\n",
       "       'Closed-End Fund - Debt', 'Closed-End Fund - Equity', 'Medical Devices',\n",
       "       'Oil & Gas E&P', 'Semiconductors'],\n",
       "      dtype='object', name='Industry')"
      ]
     },
     "execution_count": 15,
     "metadata": {},
     "output_type": "execute_result"
    }
   ],
   "source": [
    "multi_ticker_industries"
   ]
  },
  {
   "cell_type": "code",
   "execution_count": 19,
   "metadata": {},
   "outputs": [
    {
     "ename": "NameError",
     "evalue": "name 'multi_ticker_industries' is not defined",
     "output_type": "error",
     "traceback": [
      "\u001b[1;31m---------------------------------------------------------------------------\u001b[0m",
      "\u001b[1;31mNameError\u001b[0m                                 Traceback (most recent call last)",
      "\u001b[1;32m~\\AppData\\Local\\Temp\\ipykernel_22364\\3030430678.py\u001b[0m in \u001b[0;36m<module>\u001b[1;34m\u001b[0m\n\u001b[1;32m----> 1\u001b[1;33m \u001b[0mfiltered_df\u001b[0m \u001b[1;33m=\u001b[0m \u001b[0mresult_df\u001b[0m\u001b[1;33m[\u001b[0m\u001b[0mresult_df\u001b[0m\u001b[1;33m[\u001b[0m\u001b[1;34m'Industry'\u001b[0m\u001b[1;33m]\u001b[0m\u001b[1;33m.\u001b[0m\u001b[0misin\u001b[0m\u001b[1;33m(\u001b[0m\u001b[0mmulti_ticker_industries\u001b[0m\u001b[1;33m)\u001b[0m\u001b[1;33m]\u001b[0m\u001b[1;33m\u001b[0m\u001b[1;33m\u001b[0m\u001b[0m\n\u001b[0m",
      "\u001b[1;31mNameError\u001b[0m: name 'multi_ticker_industries' is not defined"
     ]
    }
   ],
   "source": [
    "filtered_df = result_df[result_df['Industry'].isin(multi_ticker_industries)]\n"
   ]
  },
  {
   "cell_type": "code",
   "execution_count": 23,
   "metadata": {},
   "outputs": [
    {
     "data": {
      "text/html": [
       "<div>\n",
       "<style scoped>\n",
       "    .dataframe tbody tr th:only-of-type {\n",
       "        vertical-align: middle;\n",
       "    }\n",
       "\n",
       "    .dataframe tbody tr th {\n",
       "        vertical-align: top;\n",
       "    }\n",
       "\n",
       "    .dataframe thead th {\n",
       "        text-align: right;\n",
       "    }\n",
       "</style>\n",
       "<table border=\"1\" class=\"dataframe\">\n",
       "  <thead>\n",
       "    <tr style=\"text-align: right;\">\n",
       "      <th></th>\n",
       "      <th>Date</th>\n",
       "      <th>Adj Close</th>\n",
       "      <th>Ticker</th>\n",
       "      <th>Industry</th>\n",
       "      <th>Adj Close Diff</th>\n",
       "    </tr>\n",
       "  </thead>\n",
       "  <tbody>\n",
       "    <tr>\n",
       "      <th>40307</th>\n",
       "      <td>1992-11-12</td>\n",
       "      <td>80.022629</td>\n",
       "      <td>BIOL</td>\n",
       "      <td>Medical Devices</td>\n",
       "      <td>NaN</td>\n",
       "    </tr>\n",
       "    <tr>\n",
       "      <th>40308</th>\n",
       "      <td>1992-11-13</td>\n",
       "      <td>86.881714</td>\n",
       "      <td>BIOL</td>\n",
       "      <td>Medical Devices</td>\n",
       "      <td>6.859085</td>\n",
       "    </tr>\n",
       "    <tr>\n",
       "      <th>40309</th>\n",
       "      <td>1992-11-16</td>\n",
       "      <td>89.168083</td>\n",
       "      <td>BIOL</td>\n",
       "      <td>Medical Devices</td>\n",
       "      <td>2.286369</td>\n",
       "    </tr>\n",
       "    <tr>\n",
       "      <th>40310</th>\n",
       "      <td>1992-11-17</td>\n",
       "      <td>89.168083</td>\n",
       "      <td>BIOL</td>\n",
       "      <td>Medical Devices</td>\n",
       "      <td>0.000000</td>\n",
       "    </tr>\n",
       "    <tr>\n",
       "      <th>40311</th>\n",
       "      <td>1992-11-18</td>\n",
       "      <td>84.595360</td>\n",
       "      <td>BIOL</td>\n",
       "      <td>Medical Devices</td>\n",
       "      <td>-4.572723</td>\n",
       "    </tr>\n",
       "  </tbody>\n",
       "</table>\n",
       "</div>"
      ],
      "text/plain": [
       "             Date  Adj Close Ticker         Industry  Adj Close Diff\n",
       "40307  1992-11-12  80.022629   BIOL  Medical Devices             NaN\n",
       "40308  1992-11-13  86.881714   BIOL  Medical Devices        6.859085\n",
       "40309  1992-11-16  89.168083   BIOL  Medical Devices        2.286369\n",
       "40310  1992-11-17  89.168083   BIOL  Medical Devices        0.000000\n",
       "40311  1992-11-18  84.595360   BIOL  Medical Devices       -4.572723"
      ]
     },
     "execution_count": 23,
     "metadata": {},
     "output_type": "execute_result"
    }
   ],
   "source": [
    "filtered_df.head()"
   ]
  },
  {
   "cell_type": "code",
   "execution_count": 18,
   "metadata": {},
   "outputs": [],
   "source": [
    "result_df['Date'] = pd.to_datetime(result_df['Date'])"
   ]
  },
  {
   "cell_type": "code",
   "execution_count": 33,
   "metadata": {},
   "outputs": [],
   "source": [
    "k = filtered_df[(filtered_df['Industry'] == 'Medical Devices') & (filtered_df['Date'].between('2020-01-01', '2022-01-01'))]"
   ]
  },
  {
   "cell_type": "code",
   "execution_count": 35,
   "metadata": {},
   "outputs": [
    {
     "data": {
      "text/html": [
       "<div>\n",
       "<style scoped>\n",
       "    .dataframe tbody tr th:only-of-type {\n",
       "        vertical-align: middle;\n",
       "    }\n",
       "\n",
       "    .dataframe tbody tr th {\n",
       "        vertical-align: top;\n",
       "    }\n",
       "\n",
       "    .dataframe thead th {\n",
       "        text-align: right;\n",
       "    }\n",
       "</style>\n",
       "<table border=\"1\" class=\"dataframe\">\n",
       "  <thead>\n",
       "    <tr style=\"text-align: right;\">\n",
       "      <th></th>\n",
       "      <th>Date</th>\n",
       "      <th>Adj Close</th>\n",
       "      <th>Ticker</th>\n",
       "      <th>Industry</th>\n",
       "      <th>Adj Close Diff</th>\n",
       "    </tr>\n",
       "  </thead>\n",
       "  <tbody>\n",
       "    <tr>\n",
       "      <th>47140</th>\n",
       "      <td>2020-01-02</td>\n",
       "      <td>0.61</td>\n",
       "      <td>BIOL</td>\n",
       "      <td>Medical Devices</td>\n",
       "      <td>0.06</td>\n",
       "    </tr>\n",
       "    <tr>\n",
       "      <th>47141</th>\n",
       "      <td>2020-01-03</td>\n",
       "      <td>0.63</td>\n",
       "      <td>BIOL</td>\n",
       "      <td>Medical Devices</td>\n",
       "      <td>0.02</td>\n",
       "    </tr>\n",
       "    <tr>\n",
       "      <th>47142</th>\n",
       "      <td>2020-01-06</td>\n",
       "      <td>0.57</td>\n",
       "      <td>BIOL</td>\n",
       "      <td>Medical Devices</td>\n",
       "      <td>-0.06</td>\n",
       "    </tr>\n",
       "    <tr>\n",
       "      <th>47143</th>\n",
       "      <td>2020-01-07</td>\n",
       "      <td>0.59</td>\n",
       "      <td>BIOL</td>\n",
       "      <td>Medical Devices</td>\n",
       "      <td>0.02</td>\n",
       "    </tr>\n",
       "    <tr>\n",
       "      <th>47144</th>\n",
       "      <td>2020-01-08</td>\n",
       "      <td>0.59</td>\n",
       "      <td>BIOL</td>\n",
       "      <td>Medical Devices</td>\n",
       "      <td>0.00</td>\n",
       "    </tr>\n",
       "  </tbody>\n",
       "</table>\n",
       "</div>"
      ],
      "text/plain": [
       "             Date  Adj Close Ticker         Industry  Adj Close Diff\n",
       "47140  2020-01-02       0.61   BIOL  Medical Devices            0.06\n",
       "47141  2020-01-03       0.63   BIOL  Medical Devices            0.02\n",
       "47142  2020-01-06       0.57   BIOL  Medical Devices           -0.06\n",
       "47143  2020-01-07       0.59   BIOL  Medical Devices            0.02\n",
       "47144  2020-01-08       0.59   BIOL  Medical Devices            0.00"
      ]
     },
     "execution_count": 35,
     "metadata": {},
     "output_type": "execute_result"
    }
   ],
   "source": [
    "k.head()"
   ]
  },
  {
   "cell_type": "code",
   "execution_count": 33,
   "metadata": {},
   "outputs": [
    {
     "data": {
      "text/plain": [
       "[<matplotlib.lines.Line2D at 0x2788028a7f0>]"
      ]
     },
     "execution_count": 33,
     "metadata": {},
     "output_type": "execute_result"
    },
    {
     "data": {
      "image/png": "[encoded data removed]",
      "text/plain": [
       "<Figure size 432x288 with 1 Axes>"
      ]
     },
     "metadata": {
      "needs_background": "light"
     },
     "output_type": "display_data"
    }
   ],
   "source": [
    "from matplotlib import pyplot as plt\n",
    "\n",
    "# ticker_df = filtered_df[filtered_df['Ticker'] == 'ARAY']\n",
    "plt.plot(k['Date'], k['Adj Close Diff'], label='ARAY')\n",
    "plt.plot(k['Date'], k['Adj Close Diff'], label='ARAY')"
   ]
  },
  {
   "cell_type": "code",
   "execution_count": 32,
   "metadata": {},
   "outputs": [
    {
     "data": {
      "text/plain": [
       "array(['BIOL', 'ARAY', 'PACB', 'AXDX', 'CNMD', 'AXGN', 'CERS', 'BIO',\n",
       "       'DXCM', 'INGN', 'IART', 'ELMD', 'NSPR'], dtype=object)"
      ]
     },
     "execution_count": 32,
     "metadata": {},
     "output_type": "execute_result"
    }
   ],
   "source": [
    "pd.unique(medical_df[\"Ticker\"])"
   ]
  },
  {
   "cell_type": "code",
   "execution_count": 28,
   "metadata": {},
   "outputs": [],
   "source": [
    "medical_df = filtered_df[filtered_df['Industry']=='Medical Devices']\n"
   ]
  },
  {
   "cell_type": "code",
   "execution_count": 17,
   "metadata": {},
   "outputs": [],
   "source": [
    "df_headlines['date'] = pd.to_datetime(df_headlines['date'], errors='coerce')\n",
    "result_df['Date'] = pd.to_datetime(result_df['Date'])\n",
    "\n",
    "df_headlines = df_headlines.dropna(subset=['date'])\n"
   ]
  },
  {
   "cell_type": "code",
   "execution_count": 36,
   "metadata": {},
   "outputs": [
    {
     "data": {
      "text/plain": [
       "Index(['Date', 'Adj Close', 'Ticker', 'Industry', 'Adj Close Diff'], dtype='object')"
      ]
     },
     "execution_count": 36,
     "metadata": {},
     "output_type": "execute_result"
    }
   ],
   "source": [
    "result_df.columns"
   ]
  },
  {
   "cell_type": "code",
   "execution_count": 18,
   "metadata": {},
   "outputs": [],
   "source": [
    "final_df = pd.merge(df_headlines, result_df, left_on=['stock','date'], right_on=['Ticker','Date'], how='left')"
   ]
  },
  {
   "cell_type": "code",
   "execution_count": 19,
   "metadata": {},
   "outputs": [],
   "source": [
    "final_df = final_df[final_df['Ticker'].notna()]"
   ]
  },
  {
   "cell_type": "code",
   "execution_count": 20,
   "metadata": {},
   "outputs": [],
   "source": [
    "final_df = final_df[final_df['stock'] == final_df['Ticker']]\n"
   ]
  },
  {
   "cell_type": "code",
   "execution_count": 31,
   "metadata": {},
   "outputs": [
    {
     "data": {
      "text/html": [
       "<div>\n",
       "<style scoped>\n",
       "    .dataframe tbody tr th:only-of-type {\n",
       "        vertical-align: middle;\n",
       "    }\n",
       "\n",
       "    .dataframe tbody tr th {\n",
       "        vertical-align: top;\n",
       "    }\n",
       "\n",
       "    .dataframe thead th {\n",
       "        text-align: right;\n",
       "    }\n",
       "</style>\n",
       "<table border=\"1\" class=\"dataframe\">\n",
       "  <thead>\n",
       "    <tr style=\"text-align: right;\">\n",
       "      <th></th>\n",
       "      <th>index</th>\n",
       "      <th>title</th>\n",
       "      <th>date</th>\n",
       "      <th>stock</th>\n",
       "      <th>time</th>\n",
       "      <th>Date</th>\n",
       "      <th>Adj Close</th>\n",
       "      <th>Ticker</th>\n",
       "      <th>Industry</th>\n",
       "      <th>Adj Close Diff</th>\n",
       "    </tr>\n",
       "  </thead>\n",
       "  <tbody>\n",
       "    <tr>\n",
       "      <th>29</th>\n",
       "      <td>29.0</td>\n",
       "      <td>Shares of several healthcare companies are tra...</td>\n",
       "      <td>2020-04-01</td>\n",
       "      <td>A</td>\n",
       "      <td>09:20:00-04:00</td>\n",
       "      <td>2020-04-01</td>\n",
       "      <td>68.919998</td>\n",
       "      <td>A</td>\n",
       "      <td>Diagnostics &amp; Research</td>\n",
       "      <td>-2.700005</td>\n",
       "    </tr>\n",
       "    <tr>\n",
       "      <th>30</th>\n",
       "      <td>30.0</td>\n",
       "      <td>Int'l. Air Transport Authority Chief Economist...</td>\n",
       "      <td>2020-03-31</td>\n",
       "      <td>A</td>\n",
       "      <td>08:55:00-04:00</td>\n",
       "      <td>2020-03-31</td>\n",
       "      <td>71.620003</td>\n",
       "      <td>A</td>\n",
       "      <td>Diagnostics &amp; Research</td>\n",
       "      <td>-1.049995</td>\n",
       "    </tr>\n",
       "    <tr>\n",
       "      <th>31</th>\n",
       "      <td>31.0</td>\n",
       "      <td>Wells Fargo Maintains Overweight on Agilent Te...</td>\n",
       "      <td>2020-03-30</td>\n",
       "      <td>A</td>\n",
       "      <td>10:30:00-04:00</td>\n",
       "      <td>2020-03-30</td>\n",
       "      <td>72.669998</td>\n",
       "      <td>A</td>\n",
       "      <td>Diagnostics &amp; Research</td>\n",
       "      <td>1.939995</td>\n",
       "    </tr>\n",
       "    <tr>\n",
       "      <th>32</th>\n",
       "      <td>32.0</td>\n",
       "      <td>Shares of several technology companies are tra...</td>\n",
       "      <td>2020-03-30</td>\n",
       "      <td>A</td>\n",
       "      <td>10:23:00-04:00</td>\n",
       "      <td>2020-03-30</td>\n",
       "      <td>72.669998</td>\n",
       "      <td>A</td>\n",
       "      <td>Diagnostics &amp; Research</td>\n",
       "      <td>1.939995</td>\n",
       "    </tr>\n",
       "    <tr>\n",
       "      <th>33</th>\n",
       "      <td>33.0</td>\n",
       "      <td>Shares of several healthcare companies are tra...</td>\n",
       "      <td>2020-03-27</td>\n",
       "      <td>A</td>\n",
       "      <td>10:58:00-04:00</td>\n",
       "      <td>2020-03-27</td>\n",
       "      <td>70.730003</td>\n",
       "      <td>A</td>\n",
       "      <td>Diagnostics &amp; Research</td>\n",
       "      <td>-2.802864</td>\n",
       "    </tr>\n",
       "  </tbody>\n",
       "</table>\n",
       "</div>"
      ],
      "text/plain": [
       "    index                                              title       date stock  \\\n",
       "29   29.0  Shares of several healthcare companies are tra... 2020-04-01     A   \n",
       "30   30.0  Int'l. Air Transport Authority Chief Economist... 2020-03-31     A   \n",
       "31   31.0  Wells Fargo Maintains Overweight on Agilent Te... 2020-03-30     A   \n",
       "32   32.0  Shares of several technology companies are tra... 2020-03-30     A   \n",
       "33   33.0  Shares of several healthcare companies are tra... 2020-03-27     A   \n",
       "\n",
       "              time       Date  Adj Close Ticker                Industry  \\\n",
       "29  09:20:00-04:00 2020-04-01  68.919998      A  Diagnostics & Research   \n",
       "30  08:55:00-04:00 2020-03-31  71.620003      A  Diagnostics & Research   \n",
       "31  10:30:00-04:00 2020-03-30  72.669998      A  Diagnostics & Research   \n",
       "32  10:23:00-04:00 2020-03-30  72.669998      A  Diagnostics & Research   \n",
       "33  10:58:00-04:00 2020-03-27  70.730003      A  Diagnostics & Research   \n",
       "\n",
       "    Adj Close Diff  \n",
       "29       -2.700005  \n",
       "30       -1.049995  \n",
       "31        1.939995  \n",
       "32        1.939995  \n",
       "33       -2.802864  "
      ]
     },
     "execution_count": 31,
     "metadata": {},
     "output_type": "execute_result"
    }
   ],
   "source": [
    "final_df.head()"
   ]
  },
  {
   "cell_type": "code",
   "execution_count": 21,
   "metadata": {},
   "outputs": [],
   "source": [
    "final_df=final_df.drop(columns=['time','Ticker','Date','index'])"
   ]
  },
  {
   "cell_type": "code",
   "execution_count": 22,
   "metadata": {},
   "outputs": [],
   "source": [
    "from vaderSentiment.vaderSentiment import SentimentIntensityAnalyzer\n",
    "\n",
    "# Initialize VADER sentiment analyzer\n",
    "vader = SentimentIntensityAnalyzer()\n",
    "f = lambda title: vader.polarity_scores(title)['compound']"
   ]
  },
  {
   "cell_type": "code",
   "execution_count": 23,
   "metadata": {},
   "outputs": [],
   "source": [
    "final_df['sentiment'] = final_df['title'].apply(f)"
   ]
  },
  {
   "cell_type": "code",
   "execution_count": 5,
   "metadata": {},
   "outputs": [
    {
     "data": {
      "text/plain": [
       "<bound method Series.unique of 0            A\n",
       "1            A\n",
       "2            A\n",
       "3            A\n",
       "4            A\n",
       "          ... \n",
       "222073    PZZA\n",
       "222074    PZZA\n",
       "222075    PZZA\n",
       "222076    PZZA\n",
       "222077    PZZA\n",
       "Name: stock, Length: 222078, dtype: object>"
      ]
     },
     "execution_count": 5,
     "metadata": {},
     "output_type": "execute_result"
    }
   ],
   "source": [
    "final_df['stock'].unique()"
   ]
  },
  {
   "cell_type": "code",
   "execution_count": 26,
   "metadata": {},
   "outputs": [],
   "source": [
    "final_df.to_csv('training_data')"
   ]
  },
  {
   "cell_type": "code",
   "execution_count": 83,
   "metadata": {},
   "outputs": [],
   "source": [
    "df_A = final_df[final_df['stock']=='PZZA']"
   ]
  },
  {
   "cell_type": "code",
   "execution_count": 84,
   "metadata": {},
   "outputs": [],
   "source": [
    "df_A = df_A[400:]\n"
   ]
  },
  {
   "cell_type": "code",
   "execution_count": 88,
   "metadata": {},
   "outputs": [
    {
     "data": {
      "text/plain": [
       "[<matplotlib.lines.Line2D at 0x2184c7fb580>]"
      ]
     },
     "execution_count": 88,
     "metadata": {},
     "output_type": "execute_result"
    },
    {
     "data": {
      "image/png": "[encoded data removed]",
      "text/plain": [
       "<Figure size 432x288 with 1 Axes>"
      ]
     },
     "metadata": {
      "needs_background": "light"
     },
     "output_type": "display_data"
    }
   ],
   "source": [
    "# ticker_df = filtered_df[filtered_df['Ticker'] == 'ARAY']\n",
    "plt.plot(df_A['date'], df_A['Adj Close Diff'], label='A')\n",
    "plt.plot(df_A['date'], df_A['sentiment'], label='A')\n"
   ]
  },
  {
   "cell_type": "code",
   "execution_count": 4,
   "metadata": {},
   "outputs": [],
   "source": [
    "final_df = pd.read_csv('training_data')"
   ]
  },
  {
   "cell_type": "code",
   "execution_count": 4,
   "metadata": {},
   "outputs": [],
   "source": [
    "# import pandas as pd\n",
    "from sklearn.preprocessing import MinMaxScaler"
   ]
  },
  {
   "cell_type": "code",
   "execution_count": 5,
   "metadata": {},
   "outputs": [],
   "source": [
    "scaler = MinMaxScaler()"
   ]
  },
  {
   "cell_type": "code",
   "execution_count": 38,
   "metadata": {},
   "outputs": [
    {
     "ename": "NameError",
     "evalue": "name 'df_A' is not defined",
     "output_type": "error",
     "traceback": [
      "\u001b[1;31m---------------------------------------------------------------------------\u001b[0m",
      "\u001b[1;31mNameError\u001b[0m                                 Traceback (most recent call last)",
      "\u001b[1;32m~\\AppData\\Local\\Temp\\ipykernel_20376\\1107631649.py\u001b[0m in \u001b[0;36m<module>\u001b[1;34m\u001b[0m\n\u001b[1;32m----> 1\u001b[1;33m \u001b[0mdf_A\u001b[0m\u001b[1;33m[\u001b[0m\u001b[1;34m'Adj Close Diff'\u001b[0m\u001b[1;33m]\u001b[0m \u001b[1;33m=\u001b[0m \u001b[0mscaler\u001b[0m\u001b[1;33m.\u001b[0m\u001b[0mfit_transform\u001b[0m\u001b[1;33m(\u001b[0m\u001b[0mdf_A\u001b[0m\u001b[1;33m[\u001b[0m\u001b[1;34m'Adj Close Diff'\u001b[0m\u001b[1;33m]\u001b[0m\u001b[1;33m.\u001b[0m\u001b[0mvalues\u001b[0m\u001b[1;33m.\u001b[0m\u001b[0mreshape\u001b[0m\u001b[1;33m(\u001b[0m\u001b[1;33m-\u001b[0m\u001b[1;36m1\u001b[0m\u001b[1;33m,\u001b[0m \u001b[1;36m1\u001b[0m\u001b[1;33m)\u001b[0m\u001b[1;33m)\u001b[0m\u001b[1;33m\u001b[0m\u001b[1;33m\u001b[0m\u001b[0m\n\u001b[0m",
      "\u001b[1;31mNameError\u001b[0m: name 'df_A' is not defined"
     ]
    }
   ],
   "source": [
    "df_A['Adj Close Diff'] = scaler.fit_transform(df_A['Adj Close Diff'].values.reshape(-1, 1))\n"
   ]
  },
  {
   "cell_type": "code",
   "execution_count": 6,
   "metadata": {},
   "outputs": [
    {
     "ename": "NameError",
     "evalue": "name 'df_A' is not defined",
     "output_type": "error",
     "traceback": [
      "\u001b[1;31m---------------------------------------------------------------------------\u001b[0m",
      "\u001b[1;31mNameError\u001b[0m                                 Traceback (most recent call last)",
      "\u001b[1;32m~\\AppData\\Local\\Temp\\ipykernel_25636\\29472082.py\u001b[0m in \u001b[0;36m<module>\u001b[1;34m\u001b[0m\n\u001b[1;32m----> 1\u001b[1;33m \u001b[0mdf_A\u001b[0m\u001b[1;33m[\u001b[0m\u001b[1;34m'sentiment'\u001b[0m\u001b[1;33m]\u001b[0m \u001b[1;33m=\u001b[0m \u001b[0mscaler\u001b[0m\u001b[1;33m.\u001b[0m\u001b[0mfit_transform\u001b[0m\u001b[1;33m(\u001b[0m\u001b[0mdf_A\u001b[0m\u001b[1;33m[\u001b[0m\u001b[1;34m'sentiment'\u001b[0m\u001b[1;33m]\u001b[0m\u001b[1;33m.\u001b[0m\u001b[0mvalues\u001b[0m\u001b[1;33m.\u001b[0m\u001b[0mreshape\u001b[0m\u001b[1;33m(\u001b[0m\u001b[1;33m-\u001b[0m\u001b[1;36m1\u001b[0m\u001b[1;33m,\u001b[0m \u001b[1;36m1\u001b[0m\u001b[1;33m)\u001b[0m\u001b[1;33m)\u001b[0m\u001b[1;33m\u001b[0m\u001b[1;33m\u001b[0m\u001b[0m\n\u001b[0m",
      "\u001b[1;31mNameError\u001b[0m: name 'df_A' is not defined"
     ]
    }
   ],
   "source": [
    "df_A['sentiment'] = scaler.fit_transform(df_A['sentiment'].values.reshape(-1, 1))"
   ]
  },
  {
   "cell_type": "code",
   "execution_count": 91,
   "metadata": {},
   "outputs": [
    {
     "data": {
      "text/html": [
       "<div>\n",
       "<style scoped>\n",
       "    .dataframe tbody tr th:only-of-type {\n",
       "        vertical-align: middle;\n",
       "    }\n",
       "\n",
       "    .dataframe tbody tr th {\n",
       "        vertical-align: top;\n",
       "    }\n",
       "\n",
       "    .dataframe thead th {\n",
       "        text-align: right;\n",
       "    }\n",
       "</style>\n",
       "<table border=\"1\" class=\"dataframe\">\n",
       "  <thead>\n",
       "    <tr style=\"text-align: right;\">\n",
       "      <th></th>\n",
       "      <th>title</th>\n",
       "      <th>date</th>\n",
       "      <th>stock</th>\n",
       "      <th>Adj Close</th>\n",
       "      <th>Industry</th>\n",
       "      <th>Adj Close Diff</th>\n",
       "      <th>sentiment</th>\n",
       "    </tr>\n",
       "  </thead>\n",
       "  <tbody>\n",
       "    <tr>\n",
       "      <th>29</th>\n",
       "      <td>Shares of several healthcare companies are tra...</td>\n",
       "      <td>2020-04-01</td>\n",
       "      <td>A</td>\n",
       "      <td>68.919998</td>\n",
       "      <td>Diagnostics &amp; Research</td>\n",
       "      <td>NaN</td>\n",
       "      <td>-0.2732</td>\n",
       "    </tr>\n",
       "    <tr>\n",
       "      <th>30</th>\n",
       "      <td>Int'l. Air Transport Authority Chief Economist...</td>\n",
       "      <td>2020-03-31</td>\n",
       "      <td>A</td>\n",
       "      <td>71.620003</td>\n",
       "      <td>Diagnostics &amp; Research</td>\n",
       "      <td>2.700005</td>\n",
       "      <td>0.0516</td>\n",
       "    </tr>\n",
       "    <tr>\n",
       "      <th>31</th>\n",
       "      <td>Wells Fargo Maintains Overweight on Agilent Te...</td>\n",
       "      <td>2020-03-30</td>\n",
       "      <td>A</td>\n",
       "      <td>72.669998</td>\n",
       "      <td>Diagnostics &amp; Research</td>\n",
       "      <td>1.049995</td>\n",
       "      <td>-0.2500</td>\n",
       "    </tr>\n",
       "    <tr>\n",
       "      <th>32</th>\n",
       "      <td>Shares of several technology companies are tra...</td>\n",
       "      <td>2020-03-30</td>\n",
       "      <td>A</td>\n",
       "      <td>72.669998</td>\n",
       "      <td>Diagnostics &amp; Research</td>\n",
       "      <td>0.000000</td>\n",
       "      <td>0.2960</td>\n",
       "    </tr>\n",
       "    <tr>\n",
       "      <th>33</th>\n",
       "      <td>Shares of several healthcare companies are tra...</td>\n",
       "      <td>2020-03-27</td>\n",
       "      <td>A</td>\n",
       "      <td>70.730003</td>\n",
       "      <td>Diagnostics &amp; Research</td>\n",
       "      <td>-1.939995</td>\n",
       "      <td>0.8271</td>\n",
       "    </tr>\n",
       "  </tbody>\n",
       "</table>\n",
       "</div>"
      ],
      "text/plain": [
       "                                                title        date stock  \\\n",
       "29  Shares of several healthcare companies are tra...  2020-04-01     A   \n",
       "30  Int'l. Air Transport Authority Chief Economist...  2020-03-31     A   \n",
       "31  Wells Fargo Maintains Overweight on Agilent Te...  2020-03-30     A   \n",
       "32  Shares of several technology companies are tra...  2020-03-30     A   \n",
       "33  Shares of several healthcare companies are tra...  2020-03-27     A   \n",
       "\n",
       "    Adj Close                Industry  Adj Close Diff  sentiment  \n",
       "29  68.919998  Diagnostics & Research             NaN    -0.2732  \n",
       "30  71.620003  Diagnostics & Research        2.700005     0.0516  \n",
       "31  72.669998  Diagnostics & Research        1.049995    -0.2500  \n",
       "32  72.669998  Diagnostics & Research        0.000000     0.2960  \n",
       "33  70.730003  Diagnostics & Research       -1.939995     0.8271  "
      ]
     },
     "execution_count": 91,
     "metadata": {},
     "output_type": "execute_result"
    }
   ],
   "source": [
    "final_df.head()"
   ]
  },
  {
   "cell_type": "code",
   "execution_count": 90,
   "metadata": {},
   "outputs": [],
   "source": [
    "final_df['Adj Close Diff'] = final_df['Adj Close'] - final_df['Adj Close'].shift(1)"
   ]
  },
  {
   "cell_type": "code",
   "execution_count": 7,
   "metadata": {},
   "outputs": [],
   "source": [
    "final_df['date'] = pd.to_datetime(final_df['date'])\n",
    "final_df['Date_ordinal'] = final_df['date'].apply(lambda x: x.toordinal())"
   ]
  },
  {
   "cell_type": "code",
   "execution_count": 10,
   "metadata": {},
   "outputs": [
    {
     "data": {
      "text/html": [
       "<div>\n",
       "<style scoped>\n",
       "    .dataframe tbody tr th:only-of-type {\n",
       "        vertical-align: middle;\n",
       "    }\n",
       "\n",
       "    .dataframe tbody tr th {\n",
       "        vertical-align: top;\n",
       "    }\n",
       "\n",
       "    .dataframe thead th {\n",
       "        text-align: right;\n",
       "    }\n",
       "</style>\n",
       "<table border=\"1\" class=\"dataframe\">\n",
       "  <thead>\n",
       "    <tr style=\"text-align: right;\">\n",
       "      <th></th>\n",
       "      <th>Unnamed: 0</th>\n",
       "      <th>title</th>\n",
       "      <th>date</th>\n",
       "      <th>stock</th>\n",
       "      <th>Adj Close</th>\n",
       "      <th>Industry</th>\n",
       "      <th>Adj Close Diff</th>\n",
       "      <th>sentiment</th>\n",
       "    </tr>\n",
       "  </thead>\n",
       "  <tbody>\n",
       "    <tr>\n",
       "      <th>0</th>\n",
       "      <td>29</td>\n",
       "      <td>Shares of several healthcare companies are tra...</td>\n",
       "      <td>2020-04-01</td>\n",
       "      <td>A</td>\n",
       "      <td>68.919998</td>\n",
       "      <td>Diagnostics &amp; Research</td>\n",
       "      <td>-2.700005</td>\n",
       "      <td>-0.2732</td>\n",
       "    </tr>\n",
       "    <tr>\n",
       "      <th>1</th>\n",
       "      <td>30</td>\n",
       "      <td>Int'l. Air Transport Authority Chief Economist...</td>\n",
       "      <td>2020-03-31</td>\n",
       "      <td>A</td>\n",
       "      <td>71.620003</td>\n",
       "      <td>Diagnostics &amp; Research</td>\n",
       "      <td>-1.049995</td>\n",
       "      <td>0.0516</td>\n",
       "    </tr>\n",
       "    <tr>\n",
       "      <th>2</th>\n",
       "      <td>31</td>\n",
       "      <td>Wells Fargo Maintains Overweight on Agilent Te...</td>\n",
       "      <td>2020-03-30</td>\n",
       "      <td>A</td>\n",
       "      <td>72.669998</td>\n",
       "      <td>Diagnostics &amp; Research</td>\n",
       "      <td>1.939995</td>\n",
       "      <td>-0.2500</td>\n",
       "    </tr>\n",
       "    <tr>\n",
       "      <th>3</th>\n",
       "      <td>32</td>\n",
       "      <td>Shares of several technology companies are tra...</td>\n",
       "      <td>2020-03-30</td>\n",
       "      <td>A</td>\n",
       "      <td>72.669998</td>\n",
       "      <td>Diagnostics &amp; Research</td>\n",
       "      <td>1.939995</td>\n",
       "      <td>0.2960</td>\n",
       "    </tr>\n",
       "    <tr>\n",
       "      <th>4</th>\n",
       "      <td>33</td>\n",
       "      <td>Shares of several healthcare companies are tra...</td>\n",
       "      <td>2020-03-27</td>\n",
       "      <td>A</td>\n",
       "      <td>70.730003</td>\n",
       "      <td>Diagnostics &amp; Research</td>\n",
       "      <td>-2.802864</td>\n",
       "      <td>0.8271</td>\n",
       "    </tr>\n",
       "  </tbody>\n",
       "</table>\n",
       "</div>"
      ],
      "text/plain": [
       "   Unnamed: 0                                              title        date  \\\n",
       "0          29  Shares of several healthcare companies are tra...  2020-04-01   \n",
       "1          30  Int'l. Air Transport Authority Chief Economist...  2020-03-31   \n",
       "2          31  Wells Fargo Maintains Overweight on Agilent Te...  2020-03-30   \n",
       "3          32  Shares of several technology companies are tra...  2020-03-30   \n",
       "4          33  Shares of several healthcare companies are tra...  2020-03-27   \n",
       "\n",
       "  stock  Adj Close                Industry  Adj Close Diff  sentiment  \n",
       "0     A  68.919998  Diagnostics & Research       -2.700005    -0.2732  \n",
       "1     A  71.620003  Diagnostics & Research       -1.049995     0.0516  \n",
       "2     A  72.669998  Diagnostics & Research        1.939995    -0.2500  \n",
       "3     A  72.669998  Diagnostics & Research        1.939995     0.2960  \n",
       "4     A  70.730003  Diagnostics & Research       -2.802864     0.8271  "
      ]
     },
     "execution_count": 10,
     "metadata": {},
     "output_type": "execute_result"
    }
   ],
   "source": [
    "final_df.head()"
   ]
  },
  {
   "cell_type": "markdown",
   "metadata": {},
   "source": [
    "Prediction models:"
   ]
  },
  {
   "cell_type": "code",
   "execution_count": 5,
   "metadata": {},
   "outputs": [],
   "source": [
    "from sklearn.model_selection import train_test_split\n",
    "\n",
    "\n",
    "# X = final_df[['sentiment', 'Adj Close Diff', 'Date_ordinal']]\n",
    "y = final_df['Adj Close']\n",
    "\n",
    "X = final_df.drop(columns=['Adj Close','stock','title','date','Industry'])\n",
    "# y = final_df['Adj Close']\n",
    "\n",
    "# Split the data into training and testing sets\n",
    "X_train, X_test, y_train, y_test = train_test_split(X, y, test_size=0.2, random_state=42)"
   ]
  },
  {
   "cell_type": "code",
   "execution_count": 6,
   "metadata": {},
   "outputs": [],
   "source": [
    "scaler = StandardScaler()\n",
    "X_train_scaled = scaler.fit_transform(X_train)\n",
    "X_test_scaled = scaler.transform(X_test)"
   ]
  },
  {
   "cell_type": "code",
   "execution_count": 7,
   "metadata": {},
   "outputs": [
    {
     "name": "stdout",
     "output_type": "stream",
     "text": [
      "Mean Squared Error: 206627.3207144433\n"
     ]
    }
   ],
   "source": [
    "from sklearn.ensemble import RandomForestRegressor\n",
    "from sklearn.metrics import mean_squared_error\n",
    "\n",
    "\n",
    "model = RandomForestRegressor(n_estimators=100, random_state=42)\n",
    "model.fit(X_train_scaled, y_train)\n",
    "\n",
    "# Make predictions\n",
    "y_pred = model.predict(X_test_scaled)\n",
    "\n",
    "# Evaluate the model\n",
    "mse = mean_squared_error(y_test, y_pred)\n",
    "print(f'Mean Squared Error: {mse}')\n"
   ]
  },
  {
   "cell_type": "code",
   "execution_count": 9,
   "metadata": {},
   "outputs": [
    {
     "name": "stdout",
     "output_type": "stream",
     "text": [
      "Mean Absolute Error: 12.832793340548795\n",
      "Root Mean Squared Error: 454.56277972843674\n",
      "R-squared: 0.9004940716286397\n"
     ]
    }
   ],
   "source": [
    "# Calculate and print additional metrics\n",
    "import numpy as np\n",
    "from sklearn.metrics import r2_score\n",
    "from sklearn.metrics import mean_absolute_error\n",
    "\n",
    "\n",
    "mae = mean_absolute_error(y_test, y_pred)\n",
    "rmse = np.sqrt(mse)\n",
    "r2 = r2_score(y_test, y_pred)\n",
    "\n",
    "print(f'Mean Absolute Error: {mae}')\n",
    "print(f'Root Mean Squared Error: {rmse}')\n",
    "print(f'R-squared: {r2}')\n"
   ]
  },
  {
   "cell_type": "code",
   "execution_count": 86,
   "metadata": {},
   "outputs": [
    {
     "name": "stdout",
     "output_type": "stream",
     "text": [
      "R-squared: 0.9449134147140993\n"
     ]
    }
   ],
   "source": [
    "from sklearn.metrics import r2_score\n",
    "\n",
    "# Calculate R-squared\n",
    "r2 = r2_score(y_test, y_pred)\n",
    "print(f'R-squared: {r2}')\n"
   ]
  },
  {
   "cell_type": "code",
   "execution_count": 49,
   "metadata": {},
   "outputs": [
    {
     "data": {
      "text/plain": [
       "153300.0"
      ]
     },
     "execution_count": 49,
     "metadata": {},
     "output_type": "execute_result"
    }
   ],
   "source": [
    "max(filtered_df['Adj Close'])\n"
   ]
  },
  {
   "cell_type": "code",
   "execution_count": 46,
   "metadata": {},
   "outputs": [
    {
     "data": {
      "text/plain": [
       "1697825.2186500991"
      ]
     },
     "execution_count": 46,
     "metadata": {},
     "output_type": "execute_result"
    }
   ],
   "source": []
  },
  {
   "cell_type": "markdown",
   "metadata": {},
   "source": [
    "LSTM Model:"
   ]
  },
  {
   "cell_type": "code",
   "execution_count": 28,
   "metadata": {},
   "outputs": [
    {
     "ename": "NameError",
     "evalue": "name 'X_train_scaled' is not defined",
     "output_type": "error",
     "traceback": [
      "\u001b[1;31m---------------------------------------------------------------------------\u001b[0m",
      "\u001b[1;31mNameError\u001b[0m                                 Traceback (most recent call last)",
      "\u001b[1;32m~\\AppData\\Local\\Temp\\ipykernel_20376\\1026321162.py\u001b[0m in \u001b[0;36m<module>\u001b[1;34m\u001b[0m\n\u001b[0;32m     19\u001b[0m \u001b[1;33m\u001b[0m\u001b[0m\n\u001b[0;32m     20\u001b[0m \u001b[1;31m# Fit GridSearchCV\u001b[0m\u001b[1;33m\u001b[0m\u001b[1;33m\u001b[0m\u001b[1;33m\u001b[0m\u001b[0m\n\u001b[1;32m---> 21\u001b[1;33m \u001b[0mgrid_search\u001b[0m\u001b[1;33m.\u001b[0m\u001b[0mfit\u001b[0m\u001b[1;33m(\u001b[0m\u001b[0mX_train_scaled\u001b[0m\u001b[1;33m,\u001b[0m \u001b[0my_train\u001b[0m\u001b[1;33m)\u001b[0m\u001b[1;33m\u001b[0m\u001b[1;33m\u001b[0m\u001b[0m\n\u001b[0m\u001b[0;32m     22\u001b[0m \u001b[1;33m\u001b[0m\u001b[0m\n\u001b[0;32m     23\u001b[0m \u001b[1;31m# Best parameters and estimator\u001b[0m\u001b[1;33m\u001b[0m\u001b[1;33m\u001b[0m\u001b[1;33m\u001b[0m\u001b[0m\n",
      "\u001b[1;31mNameError\u001b[0m: name 'X_train_scaled' is not defined"
     ]
    }
   ],
   "source": [
    "from sklearn.model_selection import GridSearchCV\n",
    "from sklearn.ensemble import RandomForestRegressor\n",
    "from sklearn.metrics import mean_squared_error\n",
    "\n",
    "# Define the hyperparameter grid\n",
    "param_grid = {\n",
    "    'n_estimators': [100, 200, 300],\n",
    "    'max_depth': [None, 10, 20, 30],\n",
    "    'min_samples_split': [2, 5, 10],\n",
    "    'min_samples_leaf': [1, 2, 4],\n",
    "    'bootstrap': [True, False]\n",
    "}\n",
    "\n",
    "# Initialize RandomForestRegressor\n",
    "rf = RandomForestRegressor(random_state=42)\n",
    "\n",
    "# Initialize GridSearchCV\n",
    "grid_search = GridSearchCV(estimator=rf, param_grid=param_grid, cv=5, scoring='neg_mean_squared_error', n_jobs=-1, verbose=2)\n",
    "\n",
    "# Fit GridSearchCV\n",
    "grid_search.fit(X_train_scaled, y_train)\n",
    "\n",
    "# Best parameters and estimator\n",
    "print(\"Best parameters found: \", grid_search.best_params_)\n",
    "best_rf = grid_search.best_estimator_"
   ]
  },
  {
   "cell_type": "code",
   "execution_count": 91,
   "metadata": {},
   "outputs": [],
   "source": [
    "scaler = MinMaxScaler(feature_range=(0, 1))\n",
    "scaled_features = scaler.fit_transform(final_df[features])\n",
    "scaled_target = scaler.fit_transform(final_df[target].values.reshape(-1, 1))\n",
    "\n"
   ]
  },
  {
   "cell_type": "code",
   "execution_count": 92,
   "metadata": {},
   "outputs": [],
   "source": [
    "# Create sequences of data for LSTM\n",
    "def create_sequences(features, target, time_step=1):\n",
    "    X, y = [], []\n",
    "    for i in range(len(features) - time_step - 1):\n",
    "        a = features[i:(i + time_step), :]\n",
    "        X.append(a)\n",
    "        y.append(target[i + time_step])\n",
    "    return np.array(X), np.array(y)\n",
    "\n",
    "time_step = 3\n",
    "X, y = create_sequences(scaled_features, scaled_target, time_step)"
   ]
  },
  {
   "cell_type": "code",
   "execution_count": 95,
   "metadata": {},
   "outputs": [],
   "source": [
    "# Split the data into training and testing sets\n",
    "X_train, X_test, y_train, y_test = train_test_split(X, y, test_size=0.2, random_state=42)\n",
    "\n",
    "# Build the LSTM model\n",
    "model = Sequential()\n",
    "model.add(LSTM(50, return_sequences=True, input_shape=(time_step, X.shape[2])))\n",
    "model.add(LSTM(50, return_sequences=False))\n",
    "model.add(Dense(25))\n",
    "model.add(Dense(1))\n",
    "\n",
    "# Compile the model\n",
    "model.compile(optimizer='adam', loss='mean_squared_error')"
   ]
  },
  {
   "cell_type": "code",
   "execution_count": 96,
   "metadata": {},
   "outputs": [
    {
     "name": "stdout",
     "output_type": "stream",
     "text": [
      "177659/177659 [==============================] - 1644s 9ms/step - loss: 6.1804e-06\n",
      "5552/5552 [==============================] - 20s 3ms/step\n",
      "1388/1388 [==============================] - 4s 3ms/step\n",
      "Train Mean Absolute Error: 4.295506599457339\n",
      "Train Root Mean Squared Error: 253.82498315644378\n",
      "Train R-squared: -5.495104917763172e-07\n"
     ]
    }
   ],
   "source": [
    "model.fit(X_train, y_train, batch_size=1, epochs=1)\n",
    "\n",
    "# Make predictions\n",
    "train_predict = model.predict(X_train)\n",
    "test_predict = model.predict(X_test)\n",
    "\n",
    "# Inverse transform to get actual values\n",
    "train_predict = scaler.inverse_transform(train_predict)\n",
    "test_predict = scaler.inverse_transform(test_predict)\n",
    "y_train = scaler.inverse_transform(y_train)\n",
    "y_test = scaler.inverse_transform(y_test)\n",
    "\n",
    "# Evaluate the model\n",
    "train_mae = mean_absolute_error(y_train, train_predict)\n",
    "train_rmse = np.sqrt(mean_squared_error(y_train, train_predict))\n",
    "train_r2 = r2_score(y_train, train_predict)\n",
    "\n",
    "test_mae = mean_absolute_error(y_test, test_predict)\n",
    "test_rmse = np.sqrt(mean_squared_error(y_test, test_predict))\n",
    "test_r2 = r2_score(y_test, test_predict)\n",
    "\n",
    "print(f'Train Mean Absolute Error: {train_mae}')\n",
    "print(f'Train Root Mean Squared Error: {train_rmse}')\n",
    "print(f'Train R-squared: {train_r2}')\n"
   ]
  },
  {
   "cell_type": "code",
   "execution_count": 6,
   "metadata": {},
   "outputs": [],
   "source": [
    "df_encoded = pd.get_dummies(final_df, columns=['Industry'], prefix='Industry')"
   ]
  },
  {
   "cell_type": "code",
   "execution_count": 9,
   "metadata": {},
   "outputs": [],
   "source": [
    "df_encoded = pd.get_dummies(final_df, columns=['stock','Industry'])"
   ]
  },
  {
   "cell_type": "code",
   "execution_count": 10,
   "metadata": {},
   "outputs": [
    {
     "data": {
      "text/html": [
       "<div>\n",
       "<style scoped>\n",
       "    .dataframe tbody tr th:only-of-type {\n",
       "        vertical-align: middle;\n",
       "    }\n",
       "\n",
       "    .dataframe tbody tr th {\n",
       "        vertical-align: top;\n",
       "    }\n",
       "\n",
       "    .dataframe thead th {\n",
       "        text-align: right;\n",
       "    }\n",
       "</style>\n",
       "<table border=\"1\" class=\"dataframe\">\n",
       "  <thead>\n",
       "    <tr style=\"text-align: right;\">\n",
       "      <th></th>\n",
       "      <th>Unnamed: 0</th>\n",
       "      <th>title</th>\n",
       "      <th>date</th>\n",
       "      <th>Adj Close</th>\n",
       "      <th>Adj Close Diff</th>\n",
       "      <th>sentiment</th>\n",
       "      <th>stock_A</th>\n",
       "      <th>stock_AAMC</th>\n",
       "      <th>stock_AAME</th>\n",
       "      <th>stock_AAN</th>\n",
       "      <th>...</th>\n",
       "      <th>Industry_Tobacco</th>\n",
       "      <th>Industry_Tools &amp; Accessories</th>\n",
       "      <th>Industry_Travel Services</th>\n",
       "      <th>Industry_Trucking</th>\n",
       "      <th>Industry_Uranium</th>\n",
       "      <th>Industry_Utilities - Diversified</th>\n",
       "      <th>Industry_Utilities - Regulated Electric</th>\n",
       "      <th>Industry_Utilities - Regulated Gas</th>\n",
       "      <th>Industry_Utilities - Regulated Water</th>\n",
       "      <th>Industry_Utilities - Renewable</th>\n",
       "    </tr>\n",
       "  </thead>\n",
       "  <tbody>\n",
       "    <tr>\n",
       "      <th>0</th>\n",
       "      <td>29</td>\n",
       "      <td>Shares of several healthcare companies are tra...</td>\n",
       "      <td>2020-04-01</td>\n",
       "      <td>68.919998</td>\n",
       "      <td>-2.700005</td>\n",
       "      <td>-0.2732</td>\n",
       "      <td>1</td>\n",
       "      <td>0</td>\n",
       "      <td>0</td>\n",
       "      <td>0</td>\n",
       "      <td>...</td>\n",
       "      <td>0</td>\n",
       "      <td>0</td>\n",
       "      <td>0</td>\n",
       "      <td>0</td>\n",
       "      <td>0</td>\n",
       "      <td>0</td>\n",
       "      <td>0</td>\n",
       "      <td>0</td>\n",
       "      <td>0</td>\n",
       "      <td>0</td>\n",
       "    </tr>\n",
       "    <tr>\n",
       "      <th>1</th>\n",
       "      <td>30</td>\n",
       "      <td>Int'l. Air Transport Authority Chief Economist...</td>\n",
       "      <td>2020-03-31</td>\n",
       "      <td>71.620003</td>\n",
       "      <td>-1.049995</td>\n",
       "      <td>0.0516</td>\n",
       "      <td>1</td>\n",
       "      <td>0</td>\n",
       "      <td>0</td>\n",
       "      <td>0</td>\n",
       "      <td>...</td>\n",
       "      <td>0</td>\n",
       "      <td>0</td>\n",
       "      <td>0</td>\n",
       "      <td>0</td>\n",
       "      <td>0</td>\n",
       "      <td>0</td>\n",
       "      <td>0</td>\n",
       "      <td>0</td>\n",
       "      <td>0</td>\n",
       "      <td>0</td>\n",
       "    </tr>\n",
       "    <tr>\n",
       "      <th>2</th>\n",
       "      <td>31</td>\n",
       "      <td>Wells Fargo Maintains Overweight on Agilent Te...</td>\n",
       "      <td>2020-03-30</td>\n",
       "      <td>72.669998</td>\n",
       "      <td>1.939995</td>\n",
       "      <td>-0.2500</td>\n",
       "      <td>1</td>\n",
       "      <td>0</td>\n",
       "      <td>0</td>\n",
       "      <td>0</td>\n",
       "      <td>...</td>\n",
       "      <td>0</td>\n",
       "      <td>0</td>\n",
       "      <td>0</td>\n",
       "      <td>0</td>\n",
       "      <td>0</td>\n",
       "      <td>0</td>\n",
       "      <td>0</td>\n",
       "      <td>0</td>\n",
       "      <td>0</td>\n",
       "      <td>0</td>\n",
       "    </tr>\n",
       "    <tr>\n",
       "      <th>3</th>\n",
       "      <td>32</td>\n",
       "      <td>Shares of several technology companies are tra...</td>\n",
       "      <td>2020-03-30</td>\n",
       "      <td>72.669998</td>\n",
       "      <td>1.939995</td>\n",
       "      <td>0.2960</td>\n",
       "      <td>1</td>\n",
       "      <td>0</td>\n",
       "      <td>0</td>\n",
       "      <td>0</td>\n",
       "      <td>...</td>\n",
       "      <td>0</td>\n",
       "      <td>0</td>\n",
       "      <td>0</td>\n",
       "      <td>0</td>\n",
       "      <td>0</td>\n",
       "      <td>0</td>\n",
       "      <td>0</td>\n",
       "      <td>0</td>\n",
       "      <td>0</td>\n",
       "      <td>0</td>\n",
       "    </tr>\n",
       "    <tr>\n",
       "      <th>4</th>\n",
       "      <td>33</td>\n",
       "      <td>Shares of several healthcare companies are tra...</td>\n",
       "      <td>2020-03-27</td>\n",
       "      <td>70.730003</td>\n",
       "      <td>-2.802864</td>\n",
       "      <td>0.8271</td>\n",
       "      <td>1</td>\n",
       "      <td>0</td>\n",
       "      <td>0</td>\n",
       "      <td>0</td>\n",
       "      <td>...</td>\n",
       "      <td>0</td>\n",
       "      <td>0</td>\n",
       "      <td>0</td>\n",
       "      <td>0</td>\n",
       "      <td>0</td>\n",
       "      <td>0</td>\n",
       "      <td>0</td>\n",
       "      <td>0</td>\n",
       "      <td>0</td>\n",
       "      <td>0</td>\n",
       "    </tr>\n",
       "  </tbody>\n",
       "</table>\n",
       "<p>5 rows × 785 columns</p>\n",
       "</div>"
      ],
      "text/plain": [
       "   Unnamed: 0                                              title        date  \\\n",
       "0          29  Shares of several healthcare companies are tra...  2020-04-01   \n",
       "1          30  Int'l. Air Transport Authority Chief Economist...  2020-03-31   \n",
       "2          31  Wells Fargo Maintains Overweight on Agilent Te...  2020-03-30   \n",
       "3          32  Shares of several technology companies are tra...  2020-03-30   \n",
       "4          33  Shares of several healthcare companies are tra...  2020-03-27   \n",
       "\n",
       "   Adj Close  Adj Close Diff  sentiment  stock_A  stock_AAMC  stock_AAME  \\\n",
       "0  68.919998       -2.700005    -0.2732        1           0           0   \n",
       "1  71.620003       -1.049995     0.0516        1           0           0   \n",
       "2  72.669998        1.939995    -0.2500        1           0           0   \n",
       "3  72.669998        1.939995     0.2960        1           0           0   \n",
       "4  70.730003       -2.802864     0.8271        1           0           0   \n",
       "\n",
       "   stock_AAN  ...  Industry_Tobacco  Industry_Tools & Accessories  \\\n",
       "0          0  ...                 0                             0   \n",
       "1          0  ...                 0                             0   \n",
       "2          0  ...                 0                             0   \n",
       "3          0  ...                 0                             0   \n",
       "4          0  ...                 0                             0   \n",
       "\n",
       "   Industry_Travel Services  Industry_Trucking  Industry_Uranium  \\\n",
       "0                         0                  0                 0   \n",
       "1                         0                  0                 0   \n",
       "2                         0                  0                 0   \n",
       "3                         0                  0                 0   \n",
       "4                         0                  0                 0   \n",
       "\n",
       "   Industry_Utilities - Diversified  Industry_Utilities - Regulated Electric  \\\n",
       "0                                 0                                        0   \n",
       "1                                 0                                        0   \n",
       "2                                 0                                        0   \n",
       "3                                 0                                        0   \n",
       "4                                 0                                        0   \n",
       "\n",
       "   Industry_Utilities - Regulated Gas  Industry_Utilities - Regulated Water  \\\n",
       "0                                   0                                     0   \n",
       "1                                   0                                     0   \n",
       "2                                   0                                     0   \n",
       "3                                   0                                     0   \n",
       "4                                   0                                     0   \n",
       "\n",
       "   Industry_Utilities - Renewable  \n",
       "0                               0  \n",
       "1                               0  \n",
       "2                               0  \n",
       "3                               0  \n",
       "4                               0  \n",
       "\n",
       "[5 rows x 785 columns]"
      ]
     },
     "execution_count": 10,
     "metadata": {},
     "output_type": "execute_result"
    }
   ],
   "source": [
    "df_encoded.head()"
   ]
  },
  {
   "cell_type": "code",
   "execution_count": 18,
   "metadata": {},
   "outputs": [],
   "source": [
    "X = df_encoded.drop(columns=['Adj Close','title','date','Unnamed: 0'])\n",
    "y = df_encoded['Adj Close']\n",
    "# Split the data into training and testing sets\n",
    "X_train, X_test, y_train, y_test = train_test_split(X, y, test_size=0.2, random_state=42)\n",
    "\n",
    "# Scale the features\n",
    "scaler = StandardScaler()\n",
    "X_train_scaled = scaler.fit_transform(X_train)\n",
    "X_test_scaled = scaler.transform(X_test)"
   ]
  },
  {
   "cell_type": "code",
   "execution_count": 19,
   "metadata": {},
   "outputs": [],
   "source": [
    "from sklearn.ensemble import RandomForestRegressor\n",
    "from sklearn.metrics import mean_squared_error\n",
    "from sklearn.model_selection import RandomizedSearchCV, train_test_split\n",
    "from sklearn.preprocessing import StandardScaler\n",
    "from scipy.stats import randint\n",
    "model = RandomForestRegressor(random_state=42)\n",
    "\n",
    "# Define a more focused parameter grid for RandomizedSearchCV\n",
    "param_dist = {\n",
    "    'n_estimators': randint(100, 201),  # Reduce upper limit\n",
    "    'max_depth': randint(10, 21),       # Reduce upper limit\n",
    "    'min_samples_split': randint(2, 6),  # Reduce upper limit\n",
    "    'min_samples_leaf': randint(1, 4)    # Reduce upper limit\n",
    "}\n",
    "\n",
    "# Initialize RandomizedSearchCV with fewer iterations and folds\n",
    "random_search = RandomizedSearchCV(\n",
    "    estimator=model, \n",
    "    param_distributions=param_dist, \n",
    "    n_iter=30,               # Reduce number of iterations\n",
    "    cv=2,                    # Reduce number of cross-validation folds\n",
    "    n_jobs=-1,               # Use all available cores\n",
    "    random_state=42, \n",
    "    verbose=2\n",
    ")"
   ]
  },
  {
   "cell_type": "code",
   "execution_count": null,
   "metadata": {},
   "outputs": [],
   "source": []
  }
 ],
 "metadata": {
  "kernelspec": {
   "display_name": "Python 3",
   "language": "python",
   "name": "python3"
  },
  "language_info": {
   "codemirror_mode": {
    "name": "ipython",
    "version": 3
   },
   "file_extension": ".py",
   "mimetype": "text/x-python",
   "name": "python",
   "nbconvert_exporter": "python",
   "pygments_lexer": "ipython3",
   "version": "3.9.5"
  }
 },
 "nbformat": 4,
 "nbformat_minor": 2
}
